{
 "cells": [
  {
   "cell_type": "markdown",
   "metadata": {},
   "source": [
    "## Necessary Libraries"
   ]
  },
  {
   "cell_type": "code",
   "execution_count": 1,
   "metadata": {},
   "outputs": [],
   "source": [
    "from PIL import Image\n",
    "import numpy as np\n",
    "import numpy.linalg as LA\n",
    "from numpy.linalg import norm\n",
    "from scipy.spatial import distance_matrix\n",
    "#import cupy as np\n",
    "import matplotlib.pyplot as plt\n",
    "from mpl_toolkits.mplot3d.art3d import Poly3DCollection\n",
    "from skimage import measure\n",
    "%matplotlib inline"
   ]
  },
  {
   "cell_type": "markdown",
   "metadata": {},
   "source": [
    "## Defining function to update TSDF"
   ]
  },
  {
   "cell_type": "code",
   "execution_count": 161,
   "metadata": {},
   "outputs": [],
   "source": [
    "from numba import jit, njit, prange, cuda\n",
    "\n",
    "def update_TSDF(Wt, Dt, K, TSDF, tau, idces, dc_idces):\n",
    "    xt = np.matmul(Wt,np.hstack([dc_idces.T, np.ones([dc_idces.shape[1], 1])])[...,None])[:,:,0].T\n",
    "    uc = K.dot(xt)\n",
    "    xt = xt[2,:]\n",
    "    uc = (uc/uc[-1:,:]).astype(int)\n",
    "    mask = ~np.any(np.vstack([np.isnan(uc.sum(0)), uc[0,:]<0, uc[1,:]<0, uc[0,:]>=Dt.shape[0], uc[1,:]>=Dt.shape[1]]), axis=0)\n",
    "    psdf = Dt[uc[0,:][mask],uc[1,:][mask]]-xt[mask]\n",
    "    psdf[psdf>tau] = tau\n",
    "    psdf_mask = psdf>-tau\n",
    "    mask[mask] = np.logical_and(mask[mask], psdf_mask)\n",
    "    masked_idces = idces[:,mask]\n",
    "    TSDF[masked_idces[0,:], masked_idces[1,:], masked_idces[2,:]] = psdf[psdf_mask]\n",
    "\n",
    "# #@njit(nopython=True, parallel=True, nogil=True )\n",
    "@cuda.jit\n",
    "def update_TSDF2(Wt, Dt, K, TSDF, tau, xmin, xmax, ymin, ymax, zmin, zmax):\n",
    "    for i in prange(TSDF.shape[0]):\n",
    "        for j in prange(TSDF.shape[1]):\n",
    "            for k in prange(TSDF.shape[2]):\n",
    "                xc0 = i/TSDF.shape[0]*(xmax-xmin)+xmin\n",
    "                xc1 = j/TSDF.shape[1]*(ymax-ymin)+ymin\n",
    "                xc2 = k/TSDF.shape[2]*(zmax-zmin)+zmin\n",
    "                W = Wt[i,j,k,...]\n",
    "                xt0 = xc0*W[0,0]+xc1*W[0,1]+xc2*W[0,2]+W[0,3]\n",
    "                xt1 = xc0*W[1,0]+xc1*W[1,1]+xc2*W[1,2]+W[1,3]\n",
    "                xt2 = xc0*W[2,0]+xc1*W[2,1]+xc2*W[2,2]+W[2,3]\n",
    "                uc0 = xt0*K[0,0]+xt1*K[0,1]+xt2*K[0,2]\n",
    "                uc1 = xt0*K[1,0]+xt1*K[1,1]+xt2*K[1,2]\n",
    "                uc2 = xt0*K[2,0]+xt1*K[2,1]+xt2*K[2,2]\n",
    "                if uc2==0:\n",
    "                    continue\n",
    "                uc0 /= uc2\n",
    "                uc1 /= uc2\n",
    "                if uc0<0 or uc1<0 or uc0>=Dt.shape[0] or uc1>=Dt.shape[1] or Dt[int(uc0), int(uc1)]==0:\n",
    "                    continue\n",
    "                psdf = Dt[int(uc0), int(uc1)] - xt2\n",
    "                if psdf<=-tau:\n",
    "                    continue\n",
    "                TSDF[i,j,k] = min(tau, psdf)"
   ]
  },
  {
   "cell_type": "markdown",
   "metadata": {},
   "source": [
    "## Update TSDF"
   ]
  },
  {
   "cell_type": "code",
   "execution_count": 231,
   "metadata": {
    "scrolled": true
   },
   "outputs": [
    {
     "name": "stdout",
     "output_type": "stream",
     "text": [
      "Version: 1, Data Prep: 0.282s, Calculating TSDF: 0.279s, Marching Cube: 0.049s, Total: 0.610s\n"
     ]
    },
    {
     "name": "stderr",
     "output_type": "stream",
     "text": [
      "/Users/yujieli/anaconda3/lib/python3.6/site-packages/ipykernel_launcher.py:7: RuntimeWarning: divide by zero encountered in true_divide\n",
      "  import sys\n",
      "/Users/yujieli/anaconda3/lib/python3.6/site-packages/ipykernel_launcher.py:7: RuntimeWarning: invalid value encountered in true_divide\n",
      "  import sys\n"
     ]
    }
   ],
   "source": [
    "from time import time\n",
    "VERSION = 1\n",
    "start = time()\n",
    "x_range = (-1,1)\n",
    "y_range = (-1,1)\n",
    "z_range = (0,3)\n",
    "N = 128\n",
    "tau = (z_range[1]-z_range[0])/N*3\n",
    "TSDF = np.ones((N,N,N))*tau\n",
    "if VERSION==1:\n",
    "    idces = np.stack(np.meshgrid(np.arange(TSDF.shape[0]), np.arange(TSDF.shape[1]), np.arange(TSDF.shape[2])), 3).reshape([-1,3]).T\n",
    "    dc_idces = idces/np.array(TSDF.shape)[:,None]*\\\n",
    "        np.array([[x_range[1]-x_range[0]],[y_range[1]-y_range[0]],[z_range[1]-z_range[0]]])+\\\n",
    "        np.array([[x_range[0]],[y_range[0]],[z_range[0]]])\n",
    "K = np.array([[570.342, 0, 320], [0, 570.342, 240], [0, 0, 1]])\n",
    "Kinv = np.linalg.inv(K)\n",
    "Dt = np.array(Image.open('./photos/frame-000080.depth.png'))/1000\n",
    "Dt[Dt > 1.4] = 0.\n",
    "if VERSION==1:\n",
    "    Wt = np.repeat(np.eye(3,4)[None,...], dc_idces.shape[1], 0)\n",
    "elif VERSION==2:\n",
    "    Wt2 = np.repeat(np.repeat(np.repeat(np.eye(3,4)[None, None, None,...], TSDF.shape[2], 2), TSDF.shape[1], 1), TSDF.shape[0], 0)\n",
    "ckp1 = time()\n",
    "if VERSION==1:\n",
    "    update_TSDF(Wt, Dt, K, TSDF, tau, idces, dc_idces)\n",
    "elif VERSION==2:\n",
    "    update_TSDF2(Wt2, Dt, K, TSDF, tau, *x_range, *y_range, *z_range)\n",
    "ckp2 = time()\n",
    "# Use marching cubes to obtain the surface mesh\n",
    "verts, faces, normals, values = measure.marching_cubes_lewiner(TSDF, 0)\n",
    "end = time()\n",
    "print(\"Version: {}, Data Prep: {:.3f}s, Calculating TSDF: {:.3f}s, Marching Cube: {:.3f}s, Total: {:.3f}s\".format(VERSION, ckp1-start, ckp2-ckp1, end-ckp2, end-start))\n",
    "\n",
    "verts[:,0] = verts[:,0]/N*(x_range[1]-x_range[0])+x_range[0]\n",
    "verts[:,1] = verts[:,1]/N*(y_range[1]-y_range[0])+y_range[0]\n",
    "verts[:,2] = verts[:,2]/N*(z_range[1]-z_range[0])+z_range[0]\n",
    "verts = verts.astype(np.float64)\n",
    "normals = normals.astype(np.float64)\n",
    "verts_new = verts.copy()\n",
    "normals_new = normals.copy()\n",
    "verts_warp = verts_new.copy()\n",
    "normals_warp = normals_new.copy()"
   ]
  },
  {
   "cell_type": "markdown",
   "metadata": {},
   "source": [
    "## Visualize the TSDF as image, comparing with real depth map"
   ]
  },
  {
   "cell_type": "code",
   "execution_count": 232,
   "metadata": {
    "scrolled": false
   },
   "outputs": [
    {
     "data": {
      "image/png": "[encoded data removed]",
      "text/plain": [
       "<matplotlib.figure.Figure at 0x1105c6208>"
      ]
     },
     "metadata": {},
     "output_type": "display_data"
    }
   ],
   "source": [
    "plt.figure(figsize=(12,5))\n",
    "plt.subplot(1,2,1)\n",
    "test_depth = np.zeros((TSDF.shape[0], TSDF.shape[1]))\n",
    "for i in range(TSDF.shape[0]):\n",
    "    for j in range(TSDF.shape[1]):\n",
    "        candidates = np.where(np.diff(np.sign(TSDF[i,j,:])))\n",
    "        if len(candidates[0])>0:\n",
    "            test_depth[i,j] = candidates[0][0]/TSDF.shape[2]*(z_range[1]-z_range[0])+z_range[0]\n",
    "plt.imshow(test_depth)\n",
    "plt.colorbar()\n",
    "plt.subplot(1,2,2)\n",
    "plt.imshow(Dt)\n",
    "plt.colorbar()\n",
    "plt.show()"
   ]
  },
  {
   "cell_type": "markdown",
   "metadata": {},
   "source": [
    "## Writing to OBJ file"
   ]
  },
  {
   "cell_type": "code",
   "execution_count": 233,
   "metadata": {},
   "outputs": [],
   "source": [
    "f = open(\"object.obj\", \"wt\")\n",
    "f.write(\"# OBJ file created by some python code\\n\")\n",
    "f.write(\"#\\n\")\n",
    "f.write(\"g Obj{}\\n\".format(N))\n",
    "f.write(\"\\n\")\n",
    "for v in verts:\n",
    "    f.write(\"v  {:.4f}  {:.4f}  {:.4f}\\n\".format(v[0], v[1], v[2]))\n",
    "f.write(\"\\n\")\n",
    "for n in normals:\n",
    "    f.write(\"n  {:.4f}  {:.4f}  {:.4f}\\n\".format(n[0], n[1], n[2]))\n",
    "f.write(\"\\n\")\n",
    "for face in faces:\n",
    "    f.write(\"f  {:.4f}  {:.4f}  {:.4f}\\n\".format(face[0]+1, face[1]+1, face[2]+1))\n",
    "f.close()"
   ]
  },
  {
   "cell_type": "markdown",
   "metadata": {},
   "source": [
    "## Directly Visualize TSDF"
   ]
  },
  {
   "cell_type": "code",
   "execution_count": 234,
   "metadata": {
    "scrolled": false
   },
   "outputs": [
    {
     "name": "stderr",
     "output_type": "stream",
     "text": [
      "/Users/yujieli/anaconda3/lib/python3.6/site-packages/ipyvolume/serialize.py:66: RuntimeWarning: invalid value encountered in true_divide\n",
      "  gradient = gradient / np.sqrt(gradient[0]**2 + gradient[1]**2 + gradient[2]**2)\n"
     ]
    },
    {
     "data": {
      "application/vnd.jupyter.widget-view+json": {
       "model_id": "099296c50f1843e59dc7b07be30f6ce5",
       "version_major": 2,
       "version_minor": 0
      },
      "text/plain": [
       "A Jupyter Widget"
      ]
     },
     "metadata": {},
     "output_type": "display_data"
    }
   ],
   "source": [
    "import ipyvolume\n",
    "ipyvolume.volshow(TSDF, True)"
   ]
  },
  {
   "cell_type": "markdown",
   "metadata": {},
   "source": [
    "# Nodes"
   ]
  },
  {
   "cell_type": "code",
   "execution_count": 235,
   "metadata": {},
   "outputs": [],
   "source": [
    "def getNodes(vertices, radius, n_nodes=np.inf):\n",
    "    nodes = np.array([], dtype=np.int)\n",
    "    idces = np.arange(vertices.shape[0])\n",
    "    while idces.shape[0]>0 and nodes.shape[0]<n_nodes:\n",
    "        idx = np.random.choice(idces, size=(1,))\n",
    "        D = distance_matrix(vertices[idx,:], vertices[idces,:])<=radius\n",
    "        nodes = np.append(nodes, [idx])\n",
    "        idces = idces[~np.any(D, axis=0)]\n",
    "    return nodes"
   ]
  },
  {
   "cell_type": "code",
   "execution_count": 236,
   "metadata": {},
   "outputs": [],
   "source": [
    "def k_nearest(verts, nodes, k):\n",
    "    result = np.zeros((verts.shape[0], k))\n",
    "    result_D = np.zeros((verts.shape[0], k))\n",
    "    max_per_slice = int(np.floor(1e7/nodes.shape[0])) #about 800 MB memory\n",
    "    n_slices = int(np.ceil(verts.shape[0]/max_per_slice))\n",
    "    for i in range(n_slices):\n",
    "        cur_slice_length = min(verts.shape[0]-i*max_per_slice, max_per_slice)\n",
    "        D = distance_matrix(verts[i*max_per_slice:i*max_per_slice+cur_slice_length], nodes)\n",
    "        result[i*max_per_slice:i*max_per_slice+cur_slice_length, :k] = np.argsort(D, axis=1)[:, :k]\n",
    "        result_D[i*max_per_slice:i*max_per_slice+cur_slice_length, :k] = np.sort(D, axis=1)[:, :k]\n",
    "    return result.astype(np.int), result_D"
   ]
  },
  {
   "cell_type": "code",
   "execution_count": 237,
   "metadata": {},
   "outputs": [],
   "source": [
    "def add_node(e_node,n_vert,radius):#e_node s existing nodes, n_vert is the new vertices\n",
    "    i=0;n=np.Inf;n_node=[]\n",
    "    for i in range(e_node.shape[0]):\n",
    "        diffnorm=np.linalg.norm(n_vert-e_node[i,:],axis=1)\n",
    "        del_ind=np.where(diffnorm<radius)[0]\n",
    "        n_vert=np.delete(n_vert,del_ind,axis=0)\n",
    "    new_nodes=nodes(n_vert,radius)\n",
    "    n_nodes=np.vstack((e_node,new_nodes))\n",
    "    return n_nodes"
   ]
  },
  {
   "cell_type": "code",
   "execution_count": 238,
   "metadata": {},
   "outputs": [],
   "source": [
    "def toHomo(x):\n",
    "    # converts points from inhomogeneous to homogeneous coordinates\n",
    "    if x.ndim == 1:\n",
    "        return np.hstack((x,1))\n",
    "    else:\n",
    "        return np.vstack((x,np.ones((1,x.shape[1]))))\n",
    "\n",
    "\n",
    "def fromHomo(x):\n",
    "    # converts points from homogeneous to inhomogeneous coordinates\n",
    "    return x[:-1] / x[-1]"
   ]
  },
  {
   "cell_type": "code",
   "execution_count": 242,
   "metadata": {},
   "outputs": [
    {
     "name": "stdout",
     "output_type": "stream",
     "text": [
      "Number of nodes: 324\n",
      "--- 0.059349775314331055 seconds ---\n"
     ]
    }
   ],
   "source": [
    "start_time=time()\n",
    "nodes_idx=getNodes(verts,0.045)\n",
    "dg_v=verts[nodes_idx]\n",
    "print(\"Number of nodes:\", dg_v.shape[0])\n",
    "print(\"--- %s seconds ---\" % (time() - start_time))"
   ]
  },
  {
   "cell_type": "code",
   "execution_count": 243,
   "metadata": {},
   "outputs": [
    {
     "name": "stdout",
     "output_type": "stream",
     "text": [
      "--- 0.25763416290283203 seconds ---\n"
     ]
    }
   ],
   "source": [
    "start_time=time()\n",
    "nNeighbors = 8\n",
    "verts_neighbor, verts_neighbor_dist = k_nearest(verts,dg_v,nNeighbors)\n",
    "print(\"--- %s seconds ---\" % (time() - start_time))"
   ]
  },
  {
   "cell_type": "code",
   "execution_count": 249,
   "metadata": {},
   "outputs": [],
   "source": [
    "def calc3DMap(depthmap, K, distthresh=1.4):\n",
    "    K_inv = LA.inv(K)\n",
    "    mask = np.zeros_like(depthmap, dtype=bool)\n",
    "    \n",
    "    mask[np.nonzero(depthmap)] = True\n",
    "    m, n = depthmap.shape[:2]\n",
    "    world_pts = np.zeros((m, n, 3))\n",
    "    for i in range(m):\n",
    "        for j in range(n):\n",
    "            world_pts[i, j] = K_inv @ np.array([i, j, 1.]) * depthmap[i, j]\n",
    "\n",
    "    return world_pts, mask\n",
    "\n",
    "\n",
    "depthmap = np.array(Image.open('./photos/frame-000120.depth.png')) / 1000.\n",
    "depthmap[depthmap > 1.4] = 0.\n",
    "vl_u, mask_sensor = calc3DMap(depthmap, K)"
   ]
  },
  {
   "cell_type": "code",
   "execution_count": 251,
   "metadata": {},
   "outputs": [],
   "source": [
    "nVerts = verts.shape[0]\n",
    "nNodes = dg_v.shape[0]\n",
    "\n",
    "# dg_se3 = (np.ones((nNodes, 6)) + np.random.rand(nNodes,6)) / 40.\n",
    "dg_se3 = np.zeros((nNodes, 6))\n",
    "dg_w = np.ones(nNodes) / 10.\n",
    "\n",
    "# dg_se3_new = dg_se3.copy()\n",
    "# dg_v_new = dg_v.copy()"
   ]
  },
  {
   "cell_type": "code",
   "execution_count": 252,
   "metadata": {},
   "outputs": [],
   "source": [
    "def calcDataJacobian(verts, normals, dg_v, dg_w, dg_se3, vl_u, mask_sensor, verts_neighbor):\n",
    "    \n",
    "    nVerts = verts.shape[0]\n",
    "    nNodes = dg_v.shape[0]\n",
    "    nNeighbors = verts_neighbor.shape[1]\n",
    "    \n",
    "    error_data = np.zeros(nVerts)\n",
    "    pixels = np.zeros((nVerts, 2), dtype=np.int)\n",
    "    jacobian = np.zeros((nVerts, 6*nNodes))\n",
    "    gradient = np.zeros(6*nNodes)\n",
    "    hessian_blocks = np.zeros((6*nNodes, 6))\n",
    "    weights = np.zeros((nVerts, nNeighbors))\n",
    "    start_time=time()\n",
    "    proj_count = 0\n",
    "    \n",
    "    for i in range(nVerts):\n",
    "    #     if mask[i] == False:\n",
    "    #         continue\n",
    "\n",
    "        neighbors = verts_neighbor[i]\n",
    "        weights[i] = np.exp(-np.sum((dg_v[neighbors] - verts[i])**2,\\\n",
    "                                axis=1) / (2*dg_w[neighbors]**2))\n",
    "    #     Dual quaternion of each neighboring node\n",
    "        dq = se32dq(dg_se3[neighbors])\n",
    "    #     Blending\n",
    "        DQB = weights[i] @ dq\n",
    "    #     Normalizing DQB, norm will be used in calculating d_DQB / d_dq\n",
    "        norm_DQB = norm(DQB[:4])\n",
    "        DQB = DQB / norm_DQB\n",
    "    #     Warping, note that normal does not depend on t\n",
    "        rMat, tvec = dq2SE3(DQB)\n",
    "        verts_warped = rMat @ verts[i] + tvec\n",
    "        normals_warped = rMat @ normals[i] # No translation\n",
    "    #     Pixels data association\n",
    "        pixels[i] = np.round(fromHomo(K @ verts_warped)).astype(np.int)\n",
    "        if (pixels[i]<0).any() or pixels[i,0] >= 480 or pixels[i,1] >= 640 \\\n",
    "        or mask_sensor[pixels[i,0],pixels[i,1]] == False:\n",
    "            continue\n",
    "        proj_count += 1\n",
    "    #     Energy term\n",
    "        error_data[i] = np.dot(normals_warped, (verts_warped - vl_u[pixels[i,0],pixels[i,1]]))\n",
    "    #     As the names suggest\n",
    "        dv_ddq = np.hstack((drotated_dq0(verts[i], DQB[:4]), np.zeros((3,4)))) + dt_ddq(DQB)  \n",
    "        dn_ddq = np.hstack((drotated_dq0(normals[i], DQB[:4]), np.zeros((3,4)))) # No translation\n",
    "    #     d_Energy / d_DQB\n",
    "        block1 = error_data[i] * ((verts_warped - vl_u[pixels[i,0],pixels[i,1]]) @ dn_ddq + normals_warped @ dv_ddq)\n",
    "    #     Jacobian of DQB WRT each dual quaternion\n",
    "        for j in range(nNeighbors):\n",
    "    #         d_DQB / d_dq\n",
    "            block2 = weights[i,j] * (np.identity(8) / norm_DQB - \\\n",
    "            DQB.reshape(-1,1) @ np.hstack([DQB[:4], [0.,0.,0.,0.]]).reshape(1,-1) / norm_DQB)\n",
    "    #         Transform back to se3 to calculate d_dq / d_se3\n",
    "            se3 = dg_se3[neighbors[j]]\n",
    "    #         Previously se3 = dq2se3(dq[j])\n",
    "    #         d_dq / d_se3\n",
    "            block3 = np.hstack((ddq_dw(se3[:3], se3[3:]), np.vstack([np.zeros((4, 3)), dqe_dt(se3[:3])])))\n",
    "    #         Final Jacobian\n",
    "            jacobian[i, 6*neighbors[j]:6*neighbors[j]+6] = block1 @ block2 @ block3\n",
    "    #         Gradient\n",
    "            gradient[6*neighbors[j]:6*neighbors[j]+6] += \\\n",
    "            error_data[i] * jacobian[i, 6*neighbors[j]:6*neighbors[j]+6]\n",
    "    #         Diagonal Hessian blocks\n",
    "            hessian_blocks[6*neighbors[j]:6*neighbors[j]+6] += \\\n",
    "            jacobian[i, 6*neighbors[j]:6*neighbors[j]+6].reshape(-1,1)\\\n",
    "            @ jacobian[i, 6*neighbors[j]:6*neighbors[j]+6].reshape(1,-1)\n",
    "\n",
    "    cost_mean = (error_data**2).sum() / (2*proj_count)\n",
    "    print(\"Mean cost: \", cost_mean)\n",
    "    print(\"Points projected on image planes: \", proj_count, '/', nVerts)\n",
    "    print(\"--- %s seconds ---\" % (time() - start_time))\n",
    "    \n",
    "    return error_data, cost_mean, weights, pixels, jacobian, hessian_blocks, gradient"
   ]
  },
  {
   "cell_type": "code",
   "execution_count": 253,
   "metadata": {},
   "outputs": [],
   "source": [
    "def updateAll(verts, normals, dg_se3, vl_u, mask_sensor, weights, verts_neighbor,\\\n",
    "              hessian_blocks, gradient, steplength):\n",
    "    verts_warped = np.zeros_like(verts)\n",
    "    normals_warped = np.zeros_like(normals)\n",
    "    dg_se3_new = dg_se3.copy()\n",
    "    start_time=time()\n",
    "    proj_count = 0\n",
    "#     print(steplength)\n",
    "    for i in range(nNodes):\n",
    "#         dg_se3_new[i] += LA.pinv(hessian_blocks[6*i:6*i+6]) @ gradient[6*i:6*i+6]\n",
    "        dg_se3_new[i] = dg_se3_new[i] + steplength * gradient[6*i:6*i+6]\n",
    "    \n",
    "    error_data = np.zeros(nVerts)\n",
    "    for i in range(nVerts):\n",
    "    #     if mask[i] == False:\n",
    "    #         continue\n",
    "\n",
    "        neighbors = verts_neighbor[i]\n",
    "    #     Dual quaternion of each neighboring node\n",
    "        dq = se32dq(dg_se3_new[neighbors])\n",
    "    #     Blending\n",
    "        DQB = weights[i] @ dq\n",
    "    #     Normalizing DQB, norm will be used in calculating d_DQB / d_dq\n",
    "        norm_DQB = norm(DQB[:4])\n",
    "        DQB = DQB / norm_DQB\n",
    "    #     Warping, note that normal does not depend on t\n",
    "        rMat, tvec = dq2SE3(DQB)\n",
    "        verts_warped[i] = rMat @ verts[i] + tvec\n",
    "        normals_warped[i] = rMat @ normals[i] # No translation\n",
    "    #     Pixel data association\n",
    "        pixel = np.round(fromHomo(K @ verts_warped[i])).astype(np.int)\n",
    "        if (pixel<0).any() or pixel[0] >= 480 or pixel[1] >= 640 \\\n",
    "        or mask_sensor[pixel[0],pixel[1]] == False:\n",
    "            continue\n",
    "        proj_count += 1  \n",
    "    #     Energy term\n",
    "        error_data[i] = np.dot(normals_warped[i], (verts_warped[i] - vl_u[pixel[0],pixel[1]]))\n",
    "\n",
    "\n",
    "    cost_mean = (error_data**2).sum() / (2*proj_count)\n",
    "    print(\"Updated mean cost: \", cost_mean) \n",
    "    print(\"Points projected on image planes: \", proj_count, '/', nVerts)\n",
    "    print(\"--- %s seconds ---\" % (time() - start_time))\n",
    "    \n",
    "    return dg_se3_new, verts_warped, normals_warped"
   ]
  },
  {
   "cell_type": "code",
   "execution_count": 263,
   "metadata": {
    "scrolled": false
   },
   "outputs": [
    {
     "name": "stdout",
     "output_type": "stream",
     "text": [
      "Mean cost:  0.00428662464003\n",
      "Points projected on image planes:  4582 / 6467\n",
      "--- 6.949267864227295 seconds ---\n",
      "Updated mean cost:  0.00124001794345\n",
      "Points projected on image planes:  4524 / 6467\n",
      "--- 2.2852060794830322 seconds ---\n",
      "[-0.16116887  0.04023224 -0.00082903 ...,  0.0063095   0.00853123\n",
      "  0.01323644]\n",
      "Mean cost:  0.00124001794345\n",
      "Points projected on image planes:  4524 / 6467\n",
      "--- 6.913429021835327 seconds ---\n",
      "Updated mean cost:  0.000759634365112\n",
      "Points projected on image planes:  4510 / 6467\n",
      "--- 2.278272867202759 seconds ---\n",
      "[-0.08930338  0.0549993  -0.01189135 ...,  0.00548271  0.00740835\n",
      "  0.01147316]\n",
      "Mean cost:  0.000759634365112\n",
      "Points projected on image planes:  4510 / 6467\n",
      "--- 6.713144063949585 seconds ---\n",
      "Updated mean cost:  0.000682048182828\n",
      "Points projected on image planes:  4502 / 6467\n",
      "--- 2.2960071563720703 seconds ---\n",
      "[-0.00279003 -0.00025049  0.00032867 ...,  0.00419948  0.00567037\n",
      "  0.00877687]\n",
      "Mean cost:  0.000682048182828\n",
      "Points projected on image planes:  4502 / 6467\n",
      "--- 6.817952871322632 seconds ---\n"
     ]
    },
    {
     "ename": "KeyboardInterrupt",
     "evalue": "",
     "output_type": "error",
     "traceback": [
      "\u001b[0;31m---------------------------------------------------------------------------\u001b[0m",
      "\u001b[0;31mKeyboardInterrupt\u001b[0m                         Traceback (most recent call last)",
      "\u001b[0;32m<ipython-input-263-4a08a61ad180>\u001b[0m in \u001b[0;36m<module>\u001b[0;34m()\u001b[0m\n\u001b[1;32m      7\u001b[0m     \u001b[0merror_data\u001b[0m\u001b[0;34m,\u001b[0m \u001b[0mcost_mean\u001b[0m\u001b[0;34m,\u001b[0m \u001b[0mweights\u001b[0m\u001b[0;34m,\u001b[0m \u001b[0mpixels\u001b[0m\u001b[0;34m,\u001b[0m \u001b[0mjacobian\u001b[0m\u001b[0;34m,\u001b[0m \u001b[0mhessian_blocks\u001b[0m\u001b[0;34m,\u001b[0m \u001b[0mgradient\u001b[0m \u001b[0;34m=\u001b[0m     \u001b[0mcalcDataJacobian\u001b[0m\u001b[0;34m(\u001b[0m\u001b[0mverts\u001b[0m\u001b[0;34m,\u001b[0m \u001b[0mnormals\u001b[0m\u001b[0;34m,\u001b[0m \u001b[0mdg_v\u001b[0m\u001b[0;34m,\u001b[0m \u001b[0mdg_w\u001b[0m\u001b[0;34m,\u001b[0m \u001b[0mdg_se3_test\u001b[0m\u001b[0;34m,\u001b[0m \u001b[0mvl_u\u001b[0m\u001b[0;34m,\u001b[0m \u001b[0mmask_sensor\u001b[0m\u001b[0;34m,\u001b[0m \u001b[0mverts_neighbor\u001b[0m\u001b[0;34m)\u001b[0m\u001b[0;34m\u001b[0m\u001b[0m\n\u001b[1;32m      8\u001b[0m \u001b[0;34m\u001b[0m\u001b[0m\n\u001b[0;32m----> 9\u001b[0;31m     \u001b[0mdg_se3_test\u001b[0m\u001b[0;34m,\u001b[0m\u001b[0mverts_warped\u001b[0m\u001b[0;34m,\u001b[0m\u001b[0mnormals_warped\u001b[0m \u001b[0;34m=\u001b[0m    \u001b[0mupdateAll\u001b[0m\u001b[0;34m(\u001b[0m\u001b[0mverts\u001b[0m\u001b[0;34m,\u001b[0m \u001b[0mnormals\u001b[0m\u001b[0;34m,\u001b[0m \u001b[0mdg_se3_test\u001b[0m\u001b[0;34m,\u001b[0m \u001b[0mvl_u\u001b[0m\u001b[0;34m,\u001b[0m \u001b[0mmask_sensor\u001b[0m\u001b[0;34m,\u001b[0m \u001b[0mweights\u001b[0m\u001b[0;34m,\u001b[0m \u001b[0mverts_neighbor\u001b[0m\u001b[0;34m,\u001b[0m              \u001b[0mhessian_blocks\u001b[0m\u001b[0;34m,\u001b[0m \u001b[0mgradient\u001b[0m\u001b[0;34m,\u001b[0m \u001b[0mstep_length\u001b[0m\u001b[0;34m)\u001b[0m\u001b[0;34m\u001b[0m\u001b[0m\n\u001b[0m\u001b[1;32m     10\u001b[0m     \u001b[0mprint\u001b[0m\u001b[0;34m(\u001b[0m\u001b[0mgradient\u001b[0m\u001b[0;34m)\u001b[0m\u001b[0;34m\u001b[0m\u001b[0m\n",
      "\u001b[0;32m<ipython-input-253-6f62a6e97e1a>\u001b[0m in \u001b[0;36mupdateAll\u001b[0;34m(verts, normals, dg_se3, vl_u, mask_sensor, weights, verts_neighbor, hessian_blocks, gradient, steplength)\u001b[0m\n\u001b[1;32m     17\u001b[0m         \u001b[0mneighbors\u001b[0m \u001b[0;34m=\u001b[0m \u001b[0mverts_neighbor\u001b[0m\u001b[0;34m[\u001b[0m\u001b[0mi\u001b[0m\u001b[0;34m]\u001b[0m\u001b[0;34m\u001b[0m\u001b[0m\n\u001b[1;32m     18\u001b[0m     \u001b[0;31m#     Dual quaternion of each neighboring node\u001b[0m\u001b[0;34m\u001b[0m\u001b[0;34m\u001b[0m\u001b[0m\n\u001b[0;32m---> 19\u001b[0;31m         \u001b[0mdq\u001b[0m \u001b[0;34m=\u001b[0m \u001b[0mse32dq\u001b[0m\u001b[0;34m(\u001b[0m\u001b[0mdg_se3_new\u001b[0m\u001b[0;34m[\u001b[0m\u001b[0mneighbors\u001b[0m\u001b[0;34m]\u001b[0m\u001b[0;34m)\u001b[0m\u001b[0;34m\u001b[0m\u001b[0m\n\u001b[0m\u001b[1;32m     20\u001b[0m     \u001b[0;31m#     Blending\u001b[0m\u001b[0;34m\u001b[0m\u001b[0;34m\u001b[0m\u001b[0m\n\u001b[1;32m     21\u001b[0m         \u001b[0mDQB\u001b[0m \u001b[0;34m=\u001b[0m \u001b[0mweights\u001b[0m\u001b[0;34m[\u001b[0m\u001b[0mi\u001b[0m\u001b[0;34m]\u001b[0m \u001b[0;34m@\u001b[0m \u001b[0mdq\u001b[0m\u001b[0;34m\u001b[0m\u001b[0m\n",
      "\u001b[0;32m<ipython-input-44-c20be54b7c94>\u001b[0m in \u001b[0;36mse32dq\u001b[0;34m(se3)\u001b[0m\n\u001b[1;32m     22\u001b[0m         \u001b[0mtheta\u001b[0m \u001b[0;34m=\u001b[0m \u001b[0mnorm\u001b[0m\u001b[0;34m(\u001b[0m\u001b[0mse3\u001b[0m\u001b[0;34m[\u001b[0m\u001b[0;34m:\u001b[0m\u001b[0;34m,\u001b[0m\u001b[0;34m:\u001b[0m\u001b[0;36m3\u001b[0m\u001b[0;34m]\u001b[0m\u001b[0;34m,\u001b[0m \u001b[0maxis\u001b[0m\u001b[0;34m=\u001b[0m\u001b[0;36m1\u001b[0m\u001b[0;34m)\u001b[0m\u001b[0;34m\u001b[0m\u001b[0m\n\u001b[1;32m     23\u001b[0m         \u001b[0;32mfor\u001b[0m \u001b[0mi\u001b[0m \u001b[0;32min\u001b[0m \u001b[0mrange\u001b[0m\u001b[0;34m(\u001b[0m\u001b[0mnum\u001b[0m\u001b[0;34m)\u001b[0m\u001b[0;34m:\u001b[0m\u001b[0;34m\u001b[0m\u001b[0m\n\u001b[0;32m---> 24\u001b[0;31m             \u001b[0mdq\u001b[0m\u001b[0;34m[\u001b[0m\u001b[0mi\u001b[0m\u001b[0;34m,\u001b[0m\u001b[0;34m:\u001b[0m\u001b[0;36m4\u001b[0m\u001b[0;34m]\u001b[0m \u001b[0;34m=\u001b[0m \u001b[0mnp\u001b[0m\u001b[0;34m.\u001b[0m\u001b[0mhstack\u001b[0m\u001b[0;34m(\u001b[0m\u001b[0;34m(\u001b[0m\u001b[0mnp\u001b[0m\u001b[0;34m.\u001b[0m\u001b[0mcos\u001b[0m\u001b[0;34m(\u001b[0m\u001b[0mtheta\u001b[0m\u001b[0;34m[\u001b[0m\u001b[0mi\u001b[0m\u001b[0;34m]\u001b[0m\u001b[0;34m/\u001b[0m\u001b[0;36m2\u001b[0m\u001b[0;34m)\u001b[0m\u001b[0;34m,\u001b[0m \u001b[0mnp\u001b[0m\u001b[0;34m.\u001b[0m\u001b[0msinc\u001b[0m\u001b[0;34m(\u001b[0m\u001b[0mtheta\u001b[0m\u001b[0;34m[\u001b[0m\u001b[0mi\u001b[0m\u001b[0;34m]\u001b[0m\u001b[0;34m/\u001b[0m\u001b[0;34m(\u001b[0m\u001b[0;36m2\u001b[0m\u001b[0;34m*\u001b[0m\u001b[0mnp\u001b[0m\u001b[0;34m.\u001b[0m\u001b[0mpi\u001b[0m\u001b[0;34m)\u001b[0m\u001b[0;34m)\u001b[0m\u001b[0;34m*\u001b[0m\u001b[0mse3\u001b[0m\u001b[0;34m[\u001b[0m\u001b[0mi\u001b[0m\u001b[0;34m,\u001b[0m\u001b[0;34m:\u001b[0m\u001b[0;36m3\u001b[0m\u001b[0;34m]\u001b[0m\u001b[0;34m/\u001b[0m\u001b[0;36m2\u001b[0m\u001b[0;34m)\u001b[0m\u001b[0;34m)\u001b[0m\u001b[0;34m\u001b[0m\u001b[0m\n\u001b[0m\u001b[1;32m     25\u001b[0m \u001b[0;31m#             dq[i,4:] = quatCross(np.hstack((0, se3[i,3:])), dq[i,:4]) / 2\u001b[0m\u001b[0;34m\u001b[0m\u001b[0;34m\u001b[0m\u001b[0m\n\u001b[1;32m     26\u001b[0m             \u001b[0ma\u001b[0m\u001b[0;34m,\u001b[0m \u001b[0mb\u001b[0m\u001b[0;34m,\u001b[0m \u001b[0mc\u001b[0m\u001b[0;34m,\u001b[0m \u001b[0md\u001b[0m \u001b[0;34m=\u001b[0m \u001b[0mdq\u001b[0m\u001b[0;34m[\u001b[0m\u001b[0mi\u001b[0m\u001b[0;34m,\u001b[0m\u001b[0;34m:\u001b[0m\u001b[0;36m4\u001b[0m\u001b[0;34m]\u001b[0m\u001b[0;34m\u001b[0m\u001b[0m\n",
      "\u001b[0;32m~/anaconda3/lib/python3.6/site-packages/numpy/lib/function_base.py\u001b[0m in \u001b[0;36msinc\u001b[0;34m(x)\u001b[0m\n\u001b[1;32m   3927\u001b[0m     \"\"\"\n\u001b[1;32m   3928\u001b[0m     \u001b[0mx\u001b[0m \u001b[0;34m=\u001b[0m \u001b[0mnp\u001b[0m\u001b[0;34m.\u001b[0m\u001b[0masanyarray\u001b[0m\u001b[0;34m(\u001b[0m\u001b[0mx\u001b[0m\u001b[0;34m)\u001b[0m\u001b[0;34m\u001b[0m\u001b[0m\n\u001b[0;32m-> 3929\u001b[0;31m     \u001b[0my\u001b[0m \u001b[0;34m=\u001b[0m \u001b[0mpi\u001b[0m \u001b[0;34m*\u001b[0m \u001b[0mwhere\u001b[0m\u001b[0;34m(\u001b[0m\u001b[0mx\u001b[0m \u001b[0;34m==\u001b[0m \u001b[0;36m0\u001b[0m\u001b[0;34m,\u001b[0m \u001b[0;36m1.0e-20\u001b[0m\u001b[0;34m,\u001b[0m \u001b[0mx\u001b[0m\u001b[0;34m)\u001b[0m\u001b[0;34m\u001b[0m\u001b[0m\n\u001b[0m\u001b[1;32m   3930\u001b[0m     \u001b[0;32mreturn\u001b[0m \u001b[0msin\u001b[0m\u001b[0;34m(\u001b[0m\u001b[0my\u001b[0m\u001b[0;34m)\u001b[0m\u001b[0;34m/\u001b[0m\u001b[0my\u001b[0m\u001b[0;34m\u001b[0m\u001b[0m\n\u001b[1;32m   3931\u001b[0m \u001b[0;34m\u001b[0m\u001b[0m\n",
      "\u001b[0;31mKeyboardInterrupt\u001b[0m: "
     ]
    }
   ],
   "source": [
    "max_iter = 10\n",
    "dg_se3_test = dg_se3.copy()\n",
    "step_length = 1e-1\n",
    "for n_iter in range(max_iter):\n",
    "    if n_iter >= 0.5 * max_iter:\n",
    "        step_length *= 0.3\n",
    "    error_data, cost_mean, weights, pixels, jacobian, hessian_blocks, gradient = \\\n",
    "    calcDataJacobian(verts, normals, dg_v, dg_w, dg_se3_test, vl_u, mask_sensor, verts_neighbor)\n",
    "    \n",
    "    dg_se3_test,verts_warped,normals_warped =\\\n",
    "    updateAll(verts, normals, dg_se3_test, vl_u, mask_sensor, weights, verts_neighbor,\\\n",
    "              hessian_blocks, gradient, step_length)\n",
    "    print(gradient)"
   ]
  },
  {
   "cell_type": "code",
   "execution_count": 260,
   "metadata": {},
   "outputs": [
    {
     "data": {
      "text/plain": [
       "9"
      ]
     },
     "execution_count": 260,
     "metadata": {},
     "output_type": "execute_result"
    }
   ],
   "source": [
    "Mean cost:  0.00428662464003\n",
    "Points projected on image planes:  4582 / 6467\n",
    "--- 7.324261903762817 seconds ---\n",
    "Updated mean cost:  0.00124001794345\n",
    "Points projected on image planes:  4524 / 6467\n",
    "--- 2.4003913402557373 seconds ---\n",
    "Mean cost:  0.00124001794345\n",
    "Points projected on image planes:  4524 / 6467\n",
    "--- 6.7402589321136475 seconds ---\n",
    "Updated mean cost:  0.000759634365112\n",
    "Points projected on image planes:  4510 / 6467\n",
    "--- 2.239150047302246 seconds ---\n",
    "Mean cost:  0.000759634365112\n",
    "Points projected on image planes:  4510 / 6467\n",
    "--- 6.885958909988403 seconds ---\n",
    "Updated mean cost:  0.000682048182828\n",
    "Points projected on image planes:  4502 / 6467\n",
    "--- 2.291105031967163 seconds ---\n",
    "Mean cost:  0.000682048182828\n",
    "Points projected on image planes:  4502 / 6467\n",
    "--- 6.70046591758728 seconds ---\n",
    "Updated mean cost:  0.000613278021793\n",
    "Points projected on image planes:  4493 / 6467\n",
    "--- 2.47442889213562 seconds ---\n",
    "Mean cost:  0.000613278021793\n",
    "Points projected on image planes:  4493 / 6467\n",
    "--- 7.227879047393799 seconds ---\n",
    "Updated mean cost:  0.000550447370367\n",
    "Points projected on image planes:  4500 / 6467\n",
    "--- 2.204360008239746 seconds ---\n",
    "Mean cost:  0.000550447370367\n",
    "Points projected on image planes:  4500 / 6467\n",
    "--- 6.484575033187866 seconds ---\n",
    "Updated mean cost:  0.000536203232974\n",
    "Points projected on image planes:  4496 / 6467\n",
    "--- 2.2636117935180664 seconds ---\n",
    "Mean cost:  0.000536203232974\n",
    "Points projected on image planes:  4496 / 6467\n",
    "--- 6.810441017150879 seconds ---\n",
    "Updated mean cost:  0.000526311520207\n",
    "Points projected on image planes:  4500 / 6467\n",
    "--- 2.2352051734924316 seconds ---\n",
    "Mean cost:  0.000526311520207\n",
    "Points projected on image planes:  4500 / 6467\n",
    "--- 6.665294170379639 seconds ---\n",
    "Updated mean cost:  0.000525350486118\n",
    "Points projected on image planes:  4500 / 6467\n",
    "--- 2.2756729125976562 seconds ---\n",
    "Mean cost:  0.000525350486118\n",
    "Points projected on image planes:  4500 / 6467\n",
    "--- 6.744459867477417 seconds ---\n",
    "Updated mean cost:  0.00052492040874\n",
    "Points projected on image planes:  4500 / 6467\n",
    "--- 2.3175690174102783 seconds ---\n",
    "Mean cost:  0.00052492040874\n",
    "Points projected on image planes:  4500 / 6467\n",
    "--- 6.926562070846558 seconds ---\n",
    "Updated mean cost:  0.000524856704799\n",
    "Points projected on image planes:  4500 / 6467\n",
    "--- 2.430175304412842 seconds ---"
   ]
  },
  {
   "cell_type": "code",
   "execution_count": 261,
   "metadata": {},
   "outputs": [
    {
     "data": {
      "text/plain": [
       "array([ 0.1,  0.1,  0.1,  0.1,  0.1,  0.1,  0.1,  0.1,  0.1,  0.1,  0.1,\n",
       "        0.1,  0.1,  0.1,  0.1,  0.1,  0.1,  0.1,  0.1,  0.1,  0.1,  0.1,\n",
       "        0.1,  0.1,  0.1,  0.1,  0.1,  0.1,  0.1,  0.1,  0.1,  0.1,  0.1,\n",
       "        0.1,  0.1,  0.1,  0.1,  0.1,  0.1,  0.1,  0.1,  0.1,  0.1,  0.1,\n",
       "        0.1,  0.1,  0.1,  0.1,  0.1,  0.1,  0.1,  0.1,  0.1,  0.1,  0.1,\n",
       "        0.1,  0.1,  0.1,  0.1,  0.1,  0.1,  0.1,  0.1,  0.1,  0.1,  0.1,\n",
       "        0.1,  0.1,  0.1,  0.1,  0.1,  0.1,  0.1,  0.1,  0.1,  0.1,  0.1,\n",
       "        0.1,  0.1,  0.1,  0.1,  0.1,  0.1,  0.1,  0.1,  0.1,  0.1,  0.1,\n",
       "        0.1,  0.1,  0.1,  0.1,  0.1,  0.1,  0.1,  0.1,  0.1,  0.1,  0.1,\n",
       "        0.1,  0.1,  0.1,  0.1,  0.1,  0.1,  0.1,  0.1,  0.1,  0.1,  0.1,\n",
       "        0.1,  0.1,  0.1,  0.1,  0.1,  0.1,  0.1,  0.1,  0.1,  0.1,  0.1,\n",
       "        0.1,  0.1,  0.1,  0.1,  0.1,  0.1,  0.1,  0.1,  0.1,  0.1,  0.1,\n",
       "        0.1,  0.1,  0.1,  0.1,  0.1,  0.1,  0.1,  0.1,  0.1,  0.1,  0.1,\n",
       "        0.1,  0.1,  0.1,  0.1,  0.1,  0.1,  0.1,  0.1,  0.1,  0.1,  0.1,\n",
       "        0.1,  0.1,  0.1,  0.1,  0.1,  0.1,  0.1,  0.1,  0.1,  0.1,  0.1,\n",
       "        0.1,  0.1,  0.1,  0.1,  0.1,  0.1,  0.1,  0.1,  0.1,  0.1,  0.1,\n",
       "        0.1,  0.1,  0.1,  0.1,  0.1,  0.1,  0.1,  0.1,  0.1,  0.1,  0.1,\n",
       "        0.1,  0.1,  0.1,  0.1,  0.1,  0.1,  0.1,  0.1,  0.1,  0.1,  0.1,\n",
       "        0.1,  0.1,  0.1,  0.1,  0.1,  0.1,  0.1,  0.1,  0.1,  0.1,  0.1,\n",
       "        0.1,  0.1,  0.1,  0.1,  0.1,  0.1,  0.1,  0.1,  0.1,  0.1,  0.1,\n",
       "        0.1,  0.1,  0.1,  0.1,  0.1,  0.1,  0.1,  0.1,  0.1,  0.1,  0.1,\n",
       "        0.1,  0.1,  0.1,  0.1,  0.1,  0.1,  0.1,  0.1,  0.1,  0.1,  0.1,\n",
       "        0.1,  0.1,  0.1,  0.1,  0.1,  0.1,  0.1,  0.1,  0.1,  0.1,  0.1,\n",
       "        0.1,  0.1,  0.1,  0.1,  0.1,  0.1,  0.1,  0.1,  0.1,  0.1,  0.1,\n",
       "        0.1,  0.1,  0.1,  0.1,  0.1,  0.1,  0.1,  0.1,  0.1,  0.1,  0.1,\n",
       "        0.1,  0.1,  0.1,  0.1,  0.1,  0.1,  0.1,  0.1,  0.1,  0.1,  0.1,\n",
       "        0.1,  0.1,  0.1,  0.1,  0.1,  0.1,  0.1,  0.1,  0.1,  0.1,  0.1,\n",
       "        0.1,  0.1,  0.1,  0.1,  0.1,  0.1,  0.1,  0.1,  0.1,  0.1,  0.1,\n",
       "        0.1,  0.1,  0.1,  0.1,  0.1,  0.1,  0.1,  0.1,  0.1,  0.1,  0.1,\n",
       "        0.1,  0.1,  0.1,  0.1,  0.1])"
      ]
     },
     "execution_count": 261,
     "metadata": {},
     "output_type": "execute_result"
    }
   ],
   "source": [
    "dg_w"
   ]
  },
  {
   "cell_type": "code",
   "execution_count": 257,
   "metadata": {},
   "outputs": [
    {
     "data": {
      "application/vnd.jupyter.widget-view+json": {
       "model_id": "099296c50f1843e59dc7b07be30f6ce5",
       "version_major": 2,
       "version_minor": 0
      },
      "text/plain": [
       "A Jupyter Widget"
      ]
     },
     "metadata": {},
     "output_type": "display_data"
    }
   ],
   "source": [
    "f = open(\"object22.obj\", \"wt\")\n",
    "f.write(\"# OBJ file created by some python code\\n\")\n",
    "f.write(\"#\\n\")\n",
    "f.write(\"g Obj{}\\n\".format(N))\n",
    "f.write(\"\\n\")\n",
    "for v in verts_warped:\n",
    "    f.write(\"v  {:.4f}  {:.4f}  {:.4f}\\n\".format(v[0], v[1], v[2]))\n",
    "f.write(\"\\n\")\n",
    "for n in normals_warped:\n",
    "    f.write(\"n  {:.4f}  {:.4f}  {:.4f}\\n\".format(n[0], n[1], n[2]))\n",
    "f.write(\"\\n\")\n",
    "for face in faces:\n",
    "    f.write(\"f  {:.4f}  {:.4f}  {:.4f}\\n\".format(face[0]+1, face[1]+1, face[2]+1))\n",
    "f.close()\n",
    "\n",
    "## Directly Visualize TSDF\n",
    "\n",
    "import ipyvolume\n",
    "ipyvolume.volshow(TSDF, True)"
   ]
  },
  {
   "cell_type": "code",
   "execution_count": 77,
   "metadata": {},
   "outputs": [
    {
     "data": {
      "image/png": "[encoded data removed]",
      "text/plain": [
       "<matplotlib.figure.Figure at 0x1c0fa459b0>"
      ]
     },
     "metadata": {},
     "output_type": "display_data"
    }
   ],
   "source": [
    "covis_mat = np.zeros((nNodes, nNodes))\n",
    "for i in range(nVerts):\n",
    "    for j in range(10):\n",
    "        covis_mat[verts_neighbor[i], verts_neighbor[i,j]] += 10\n",
    "    \n",
    "for i in range(nNodes):\n",
    "    covis_mat[i,i] = 100\n",
    "\n",
    "plt.imshow(covis_mat)\n",
    "plt.show()"
   ]
  },
  {
   "cell_type": "markdown",
   "metadata": {},
   "source": [
    "# Lie Algebra Disturb"
   ]
  },
  {
   "cell_type": "code",
   "execution_count": 38,
   "metadata": {},
   "outputs": [],
   "source": [
    "def calcDataJacobian(verts, normals, dg_v, dg_w, dg_se3, vl_u, mask_sensor, verts_neighbor):\n",
    "    \n",
    "    nVerts = verts.shape[0]\n",
    "    nNodes = dg_v.shape[0]\n",
    "    nNeighbors = verts_neighbor.shape[1]\n",
    "    \n",
    "    error_data = np.zeros(nVerts)\n",
    "    pixels = np.zeros((nVerts, 2), dtype=np.int)\n",
    "    jacobian = np.zeros((nVerts, 6*nNodes))\n",
    "    gradient = np.zeros(6*nNodes)\n",
    "    hessian_blocks = np.zeros((6*nNodes, 6))\n",
    "    weights = np.zeros((nVerts, nNeighbors))\n",
    "    start_time=time()\n",
    "    proj_count = 0\n",
    "    \n",
    "    for i in range(nVerts):\n",
    "    #     if mask[i] == False:\n",
    "    #         continue\n",
    "\n",
    "        neighbors = verts_neighbor[i]\n",
    "        weights[i] = np.exp(-np.sum((dg_v[neighbors] - verts[i])**2,\\\n",
    "                                axis=1) / (2*dg_w[neighbors]**2))\n",
    "    #     Dual quaternion of each neighboring node\n",
    "        dq = se32dq(dg_se3[neighbors])\n",
    "    #     Blending\n",
    "        DQB = weights[i] @ dq\n",
    "    #     Normalizing DQB, norm will be used in calculating d_DQB / d_dq\n",
    "        norm_DQB = norm(DQB[:4])\n",
    "        DQB = DQB / norm_DQB\n",
    "    #     Warping, note that normal does not depend on t\n",
    "        rMat, tvec = dq2SE3(DQB)\n",
    "        verts_warped = rMat @ verts[i] + tvec\n",
    "        normals_warped = rMat @ normals[i] # No translation\n",
    "    #     Pixels data association\n",
    "        pixels[i] = np.round(fromHomo(K @ verts_warped)).astype(np.int)\n",
    "        if (pixels[i]<0).any() or pixels[i,0] >= 480 or pixels[i,1] >= 640 \\\n",
    "        or mask_sensor[pixels[i,0],pixels[i,1]] == False:\n",
    "            continue\n",
    "        proj_count += 1\n",
    "    #     Energy term\n",
    "        error_data[i] = np.dot(normals_warped, (verts_warped - vl_u[pixels[i,0],pixels[i,1]]))\n",
    "    #     As the names suggest\n",
    "        dv_ddq = np.hstack((drotated_dq0(verts[i], DQB[:4]), np.zeros((3,4)))) + dt_ddq(DQB)  \n",
    "        dn_ddq = np.hstack((drotated_dq0(normals[i], DQB[:4]), np.zeros((3,4)))) # No translation\n",
    "    #     d_Energy / d_DQB\n",
    "        block1 = error_data[i] * ((verts_warped - vl_u[pixels[i,0],pixels[i,1]]) @ dn_ddq + normals_warped @ dv_ddq)\n",
    "    #     Jacobian of DQB WRT each dual quaternion\n",
    "        for j in range(nNeighbors):\n",
    "    #         d_DQB / d_dq\n",
    "            block2 = weights[i,j] * (np.identity(8) / norm_DQB - \\\n",
    "            DQB.reshape(-1,1) @ np.hstack([DQB[:4], [0.,0.,0.,0.]]).reshape(1,-1) / norm_DQB)\n",
    "    #         Transform back to se3 to calculate d_dq / d_se3\n",
    "            se3 = dg_se3[neighbors[j]]\n",
    "    #         Previously se3 = dq2se3(dq[j])\n",
    "    #         d_dq / d_se3\n",
    "            block3 = np.hstack((ddq_dw(se3[:3], se3[3:]), np.vstack([np.zeros((4, 3)), dqe_dt(se3[:3])])))\n",
    "    #         Final Jacobian\n",
    "            jacobian[i, 6*neighbors[j]:6*neighbors[j]+6] = block1 @ block2 @ block3\n",
    "    #         Gradient\n",
    "            gradient[6*neighbors[j]:6*neighbors[j]+6] += \\\n",
    "            error_data[i] * jacobian[i, 6*neighbors[j]:6*neighbors[j]+6]\n",
    "    #         Diagonal Hessian blocks\n",
    "            hessian_blocks[6*neighbors[j]:6*neighbors[j]+6] += \\\n",
    "            jacobian[i, 6*neighbors[j]:6*neighbors[j]+6].reshape(-1,1)\\\n",
    "            @ jacobian[i, 6*neighbors[j]:6*neighbors[j]+6].reshape(1,-1)\n",
    "\n",
    "    cost_mean = (error_data**2).sum() / (2*proj_count)\n",
    "    print(\"Mean cost: \", cost_mean)\n",
    "    print(\"Points projected on image planes: \", proj_count, '/', nVerts)\n",
    "    print(\"--- %s seconds ---\" % (time() - start_time))\n",
    "    \n",
    "    return error_data, cost_mean, weights, pixels, jacobian, hessian_blocks, gradient"
   ]
  },
  {
   "cell_type": "code",
   "execution_count": 52,
   "metadata": {},
   "outputs": [],
   "source": [
    "def updateAll(verts, normals, dg_se3, vl_u, mask_sensor, weights, verts_neighbor,\\\n",
    "              hessian_blocks, gradient, steplength):\n",
    "    \n",
    "    verts_new = np.zeros_like(verts)\n",
    "    normals_new = np.zeros_like(normals)\n",
    "    dg_se3_new = dg_se3.copy()\n",
    "    start_time=time()\n",
    "    proj_count = 0\n",
    "#     print(steplength)\n",
    "    for i in range(nNodes):\n",
    "        dg_se3_new[i] -= LA.pinv(hessian_blocks[6*i:6*i+6]) @ gradient[6*i:6*i+6]\n",
    "#         dg_se3_new[i] = dg_se3_new[i] + steplength * gradient[6*i:6*i+6]\n",
    "    \n",
    "    error_data = np.zeros(nVerts)\n",
    "    for i in range(nVerts):\n",
    "    #     if mask[i] == False:\n",
    "    #         continue\n",
    "\n",
    "        neighbors = verts_neighbor[i]\n",
    "    #     Dual quaternion of each neighboring node\n",
    "        dq = se32dq(dg_se3_new[neighbors])\n",
    "    #     Blending\n",
    "        DQB = weights[i] @ dq\n",
    "    #     Normalizing DQB, norm will be used in calculating d_DQB / d_dq\n",
    "        norm_DQB = norm(DQB[:4])\n",
    "        DQB = DQB / norm_DQB\n",
    "    #     Warping, note that normal does not depend on t\n",
    "        rMat, tvec = dq2SE3(DQB)\n",
    "        verts_warped = rMat @ verts[i] + tvec\n",
    "        normals_warped = rMat @ normals[i] # No translation\n",
    "    #     Pixel data association\n",
    "        pixel = np.round(fromHomo(K @ verts_warped)).astype(np.int)\n",
    "        if (pixel<0).any() or pixel[0] >= 480 or pixel[1] >= 640 \\\n",
    "        or mask_sensor[pixel[0],pixel[1]] == False:\n",
    "            continue\n",
    "        proj_count += 1  \n",
    "    #     Energy term\n",
    "        error_data[i] = np.dot(normals_warped, (verts_warped - vl_u[pixel[0],pixel[1]]))\n",
    "\n",
    "\n",
    "    cost_mean = (error_data**2).sum() / (2*proj_count)\n",
    "    print(\"Updated mean cost: \", cost_mean) \n",
    "    print(\"Points projected on image planes: \", proj_count, '/', nVerts)\n",
    "    print(\"--- %s seconds ---\" % (time() - start_time))\n",
    "    \n",
    "    return dg_se3_new"
   ]
  },
  {
   "cell_type": "code",
   "execution_count": 53,
   "metadata": {},
   "outputs": [
    {
     "name": "stdout",
     "output_type": "stream",
     "text": [
      "Mean cost:  0.294371186646\n",
      "Points projected on image planes:  1468 / 19343\n",
      "--- 10.773086786270142 seconds ---\n",
      "Updated mean cost:  209418.70479\n",
      "Points projected on image planes:  336 / 19343\n",
      "--- 7.830582141876221 seconds ---\n"
     ]
    },
    {
     "ename": "KeyboardInterrupt",
     "evalue": "",
     "output_type": "error",
     "traceback": [
      "\u001b[0;31m---------------------------------------------------------------------------\u001b[0m",
      "\u001b[0;31mKeyboardInterrupt\u001b[0m                         Traceback (most recent call last)",
      "\u001b[0;32m<ipython-input-53-e2b247d71899>\u001b[0m in \u001b[0;36m<module>\u001b[0;34m()\u001b[0m\n\u001b[1;32m      4\u001b[0m \u001b[0;32mfor\u001b[0m \u001b[0mn_iter\u001b[0m \u001b[0;32min\u001b[0m \u001b[0mrange\u001b[0m\u001b[0;34m(\u001b[0m\u001b[0mmax_iter\u001b[0m\u001b[0;34m)\u001b[0m\u001b[0;34m:\u001b[0m\u001b[0;34m\u001b[0m\u001b[0m\n\u001b[1;32m      5\u001b[0m \u001b[0;34m\u001b[0m\u001b[0m\n\u001b[0;32m----> 6\u001b[0;31m     \u001b[0merror_data\u001b[0m\u001b[0;34m,\u001b[0m \u001b[0mcost_mean\u001b[0m\u001b[0;34m,\u001b[0m \u001b[0mweights\u001b[0m\u001b[0;34m,\u001b[0m \u001b[0mpixels\u001b[0m\u001b[0;34m,\u001b[0m \u001b[0mjacobian\u001b[0m\u001b[0;34m,\u001b[0m \u001b[0mhessian_blocks\u001b[0m\u001b[0;34m,\u001b[0m \u001b[0mgradient\u001b[0m \u001b[0;34m=\u001b[0m     \u001b[0mcalcDataJacobian\u001b[0m\u001b[0;34m(\u001b[0m\u001b[0mverts\u001b[0m\u001b[0;34m,\u001b[0m \u001b[0mnormals\u001b[0m\u001b[0;34m,\u001b[0m \u001b[0mdg_v\u001b[0m\u001b[0;34m,\u001b[0m \u001b[0mdg_w\u001b[0m\u001b[0;34m,\u001b[0m \u001b[0mdg_se3_test\u001b[0m\u001b[0;34m,\u001b[0m \u001b[0mvl_u\u001b[0m\u001b[0;34m,\u001b[0m \u001b[0mmask_sensor\u001b[0m\u001b[0;34m,\u001b[0m \u001b[0mverts_neighbor\u001b[0m\u001b[0;34m)\u001b[0m\u001b[0;34m\u001b[0m\u001b[0m\n\u001b[0m\u001b[1;32m      7\u001b[0m \u001b[0;34m\u001b[0m\u001b[0m\n\u001b[1;32m      8\u001b[0m     \u001b[0mdg_se3_test\u001b[0m \u001b[0;34m=\u001b[0m \u001b[0mupdateAll\u001b[0m\u001b[0;34m(\u001b[0m\u001b[0mverts\u001b[0m\u001b[0;34m,\u001b[0m \u001b[0mnormals\u001b[0m\u001b[0;34m,\u001b[0m \u001b[0mdg_se3_test\u001b[0m\u001b[0;34m,\u001b[0m \u001b[0mvl_u\u001b[0m\u001b[0;34m,\u001b[0m \u001b[0mmask_sensor\u001b[0m\u001b[0;34m,\u001b[0m \u001b[0mweights\u001b[0m\u001b[0;34m,\u001b[0m \u001b[0mverts_neighbor\u001b[0m\u001b[0;34m,\u001b[0m              \u001b[0mhessian_blocks\u001b[0m\u001b[0;34m,\u001b[0m \u001b[0mgradient\u001b[0m\u001b[0;34m,\u001b[0m \u001b[0mstep_length\u001b[0m\u001b[0;34m)\u001b[0m\u001b[0;34m\u001b[0m\u001b[0m\n",
      "\u001b[0;32m<ipython-input-38-14e45a2a4416>\u001b[0m in \u001b[0;36mcalcDataJacobian\u001b[0;34m(verts, normals, dg_v, dg_w, dg_se3, vl_u, mask_sensor, verts_neighbor)\u001b[0m\n\u001b[1;32m     21\u001b[0m         \u001b[0mweights\u001b[0m\u001b[0;34m[\u001b[0m\u001b[0mi\u001b[0m\u001b[0;34m]\u001b[0m \u001b[0;34m=\u001b[0m \u001b[0mnp\u001b[0m\u001b[0;34m.\u001b[0m\u001b[0mexp\u001b[0m\u001b[0;34m(\u001b[0m\u001b[0;34m-\u001b[0m\u001b[0mnp\u001b[0m\u001b[0;34m.\u001b[0m\u001b[0msum\u001b[0m\u001b[0;34m(\u001b[0m\u001b[0;34m(\u001b[0m\u001b[0mdg_v\u001b[0m\u001b[0;34m[\u001b[0m\u001b[0mneighbors\u001b[0m\u001b[0;34m]\u001b[0m \u001b[0;34m-\u001b[0m \u001b[0mverts\u001b[0m\u001b[0;34m[\u001b[0m\u001b[0mi\u001b[0m\u001b[0;34m]\u001b[0m\u001b[0;34m)\u001b[0m\u001b[0;34m**\u001b[0m\u001b[0;36m2\u001b[0m\u001b[0;34m,\u001b[0m                                \u001b[0maxis\u001b[0m\u001b[0;34m=\u001b[0m\u001b[0;36m1\u001b[0m\u001b[0;34m)\u001b[0m \u001b[0;34m/\u001b[0m \u001b[0;34m(\u001b[0m\u001b[0;36m2\u001b[0m\u001b[0;34m*\u001b[0m\u001b[0mdg_w\u001b[0m\u001b[0;34m[\u001b[0m\u001b[0mneighbors\u001b[0m\u001b[0;34m]\u001b[0m\u001b[0;34m**\u001b[0m\u001b[0;36m2\u001b[0m\u001b[0;34m)\u001b[0m\u001b[0;34m)\u001b[0m\u001b[0;34m\u001b[0m\u001b[0m\n\u001b[1;32m     22\u001b[0m     \u001b[0;31m#     Dual quaternion of each neighboring node\u001b[0m\u001b[0;34m\u001b[0m\u001b[0;34m\u001b[0m\u001b[0m\n\u001b[0;32m---> 23\u001b[0;31m         \u001b[0mdq\u001b[0m \u001b[0;34m=\u001b[0m \u001b[0mse32dq\u001b[0m\u001b[0;34m(\u001b[0m\u001b[0mdg_se3\u001b[0m\u001b[0;34m[\u001b[0m\u001b[0mneighbors\u001b[0m\u001b[0;34m]\u001b[0m\u001b[0;34m)\u001b[0m\u001b[0;34m\u001b[0m\u001b[0m\n\u001b[0m\u001b[1;32m     24\u001b[0m     \u001b[0;31m#     Blending\u001b[0m\u001b[0;34m\u001b[0m\u001b[0;34m\u001b[0m\u001b[0m\n\u001b[1;32m     25\u001b[0m         \u001b[0mDQB\u001b[0m \u001b[0;34m=\u001b[0m \u001b[0mweights\u001b[0m\u001b[0;34m[\u001b[0m\u001b[0mi\u001b[0m\u001b[0;34m]\u001b[0m \u001b[0;34m@\u001b[0m \u001b[0mdq\u001b[0m\u001b[0;34m\u001b[0m\u001b[0m\n",
      "\u001b[0;32m<ipython-input-44-c20be54b7c94>\u001b[0m in \u001b[0;36mse32dq\u001b[0;34m(se3)\u001b[0m\n\u001b[1;32m     22\u001b[0m         \u001b[0mtheta\u001b[0m \u001b[0;34m=\u001b[0m \u001b[0mnorm\u001b[0m\u001b[0;34m(\u001b[0m\u001b[0mse3\u001b[0m\u001b[0;34m[\u001b[0m\u001b[0;34m:\u001b[0m\u001b[0;34m,\u001b[0m\u001b[0;34m:\u001b[0m\u001b[0;36m3\u001b[0m\u001b[0;34m]\u001b[0m\u001b[0;34m,\u001b[0m \u001b[0maxis\u001b[0m\u001b[0;34m=\u001b[0m\u001b[0;36m1\u001b[0m\u001b[0;34m)\u001b[0m\u001b[0;34m\u001b[0m\u001b[0m\n\u001b[1;32m     23\u001b[0m         \u001b[0;32mfor\u001b[0m \u001b[0mi\u001b[0m \u001b[0;32min\u001b[0m \u001b[0mrange\u001b[0m\u001b[0;34m(\u001b[0m\u001b[0mnum\u001b[0m\u001b[0;34m)\u001b[0m\u001b[0;34m:\u001b[0m\u001b[0;34m\u001b[0m\u001b[0m\n\u001b[0;32m---> 24\u001b[0;31m             \u001b[0mdq\u001b[0m\u001b[0;34m[\u001b[0m\u001b[0mi\u001b[0m\u001b[0;34m,\u001b[0m\u001b[0;34m:\u001b[0m\u001b[0;36m4\u001b[0m\u001b[0;34m]\u001b[0m \u001b[0;34m=\u001b[0m \u001b[0mnp\u001b[0m\u001b[0;34m.\u001b[0m\u001b[0mhstack\u001b[0m\u001b[0;34m(\u001b[0m\u001b[0;34m(\u001b[0m\u001b[0mnp\u001b[0m\u001b[0;34m.\u001b[0m\u001b[0mcos\u001b[0m\u001b[0;34m(\u001b[0m\u001b[0mtheta\u001b[0m\u001b[0;34m[\u001b[0m\u001b[0mi\u001b[0m\u001b[0;34m]\u001b[0m\u001b[0;34m/\u001b[0m\u001b[0;36m2\u001b[0m\u001b[0;34m)\u001b[0m\u001b[0;34m,\u001b[0m \u001b[0mnp\u001b[0m\u001b[0;34m.\u001b[0m\u001b[0msinc\u001b[0m\u001b[0;34m(\u001b[0m\u001b[0mtheta\u001b[0m\u001b[0;34m[\u001b[0m\u001b[0mi\u001b[0m\u001b[0;34m]\u001b[0m\u001b[0;34m/\u001b[0m\u001b[0;34m(\u001b[0m\u001b[0;36m2\u001b[0m\u001b[0;34m*\u001b[0m\u001b[0mnp\u001b[0m\u001b[0;34m.\u001b[0m\u001b[0mpi\u001b[0m\u001b[0;34m)\u001b[0m\u001b[0;34m)\u001b[0m\u001b[0;34m*\u001b[0m\u001b[0mse3\u001b[0m\u001b[0;34m[\u001b[0m\u001b[0mi\u001b[0m\u001b[0;34m,\u001b[0m\u001b[0;34m:\u001b[0m\u001b[0;36m3\u001b[0m\u001b[0;34m]\u001b[0m\u001b[0;34m/\u001b[0m\u001b[0;36m2\u001b[0m\u001b[0;34m)\u001b[0m\u001b[0;34m)\u001b[0m\u001b[0;34m\u001b[0m\u001b[0m\n\u001b[0m\u001b[1;32m     25\u001b[0m \u001b[0;31m#             dq[i,4:] = quatCross(np.hstack((0, se3[i,3:])), dq[i,:4]) / 2\u001b[0m\u001b[0;34m\u001b[0m\u001b[0;34m\u001b[0m\u001b[0m\n\u001b[1;32m     26\u001b[0m             \u001b[0ma\u001b[0m\u001b[0;34m,\u001b[0m \u001b[0mb\u001b[0m\u001b[0;34m,\u001b[0m \u001b[0mc\u001b[0m\u001b[0;34m,\u001b[0m \u001b[0md\u001b[0m \u001b[0;34m=\u001b[0m \u001b[0mdq\u001b[0m\u001b[0;34m[\u001b[0m\u001b[0mi\u001b[0m\u001b[0;34m,\u001b[0m\u001b[0;34m:\u001b[0m\u001b[0;36m4\u001b[0m\u001b[0;34m]\u001b[0m\u001b[0;34m\u001b[0m\u001b[0m\n",
      "\u001b[0;32m~/anaconda3/lib/python3.6/site-packages/numpy/core/shape_base.py\u001b[0m in \u001b[0;36mhstack\u001b[0;34m(tup)\u001b[0m\n\u001b[1;32m    286\u001b[0m \u001b[0;34m\u001b[0m\u001b[0m\n\u001b[1;32m    287\u001b[0m     \"\"\"\n\u001b[0;32m--> 288\u001b[0;31m     \u001b[0marrs\u001b[0m \u001b[0;34m=\u001b[0m \u001b[0;34m[\u001b[0m\u001b[0matleast_1d\u001b[0m\u001b[0;34m(\u001b[0m\u001b[0m_m\u001b[0m\u001b[0;34m)\u001b[0m \u001b[0;32mfor\u001b[0m \u001b[0m_m\u001b[0m \u001b[0;32min\u001b[0m \u001b[0mtup\u001b[0m\u001b[0;34m]\u001b[0m\u001b[0;34m\u001b[0m\u001b[0m\n\u001b[0m\u001b[1;32m    289\u001b[0m     \u001b[0;31m# As a special case, dimension 0 of 1-dimensional arrays is \"horizontal\"\u001b[0m\u001b[0;34m\u001b[0m\u001b[0;34m\u001b[0m\u001b[0m\n\u001b[1;32m    290\u001b[0m     \u001b[0;32mif\u001b[0m \u001b[0marrs\u001b[0m \u001b[0;32mand\u001b[0m \u001b[0marrs\u001b[0m\u001b[0;34m[\u001b[0m\u001b[0;36m0\u001b[0m\u001b[0;34m]\u001b[0m\u001b[0;34m.\u001b[0m\u001b[0mndim\u001b[0m \u001b[0;34m==\u001b[0m \u001b[0;36m1\u001b[0m\u001b[0;34m:\u001b[0m\u001b[0;34m\u001b[0m\u001b[0m\n",
      "\u001b[0;32m~/anaconda3/lib/python3.6/site-packages/numpy/core/shape_base.py\u001b[0m in \u001b[0;36m<listcomp>\u001b[0;34m(.0)\u001b[0m\n\u001b[1;32m    286\u001b[0m \u001b[0;34m\u001b[0m\u001b[0m\n\u001b[1;32m    287\u001b[0m     \"\"\"\n\u001b[0;32m--> 288\u001b[0;31m     \u001b[0marrs\u001b[0m \u001b[0;34m=\u001b[0m \u001b[0;34m[\u001b[0m\u001b[0matleast_1d\u001b[0m\u001b[0;34m(\u001b[0m\u001b[0m_m\u001b[0m\u001b[0;34m)\u001b[0m \u001b[0;32mfor\u001b[0m \u001b[0m_m\u001b[0m \u001b[0;32min\u001b[0m \u001b[0mtup\u001b[0m\u001b[0;34m]\u001b[0m\u001b[0;34m\u001b[0m\u001b[0m\n\u001b[0m\u001b[1;32m    289\u001b[0m     \u001b[0;31m# As a special case, dimension 0 of 1-dimensional arrays is \"horizontal\"\u001b[0m\u001b[0;34m\u001b[0m\u001b[0;34m\u001b[0m\u001b[0m\n\u001b[1;32m    290\u001b[0m     \u001b[0;32mif\u001b[0m \u001b[0marrs\u001b[0m \u001b[0;32mand\u001b[0m \u001b[0marrs\u001b[0m\u001b[0;34m[\u001b[0m\u001b[0;36m0\u001b[0m\u001b[0;34m]\u001b[0m\u001b[0;34m.\u001b[0m\u001b[0mndim\u001b[0m \u001b[0;34m==\u001b[0m \u001b[0;36m1\u001b[0m\u001b[0;34m:\u001b[0m\u001b[0;34m\u001b[0m\u001b[0m\n",
      "\u001b[0;31mKeyboardInterrupt\u001b[0m: "
     ]
    }
   ],
   "source": [
    "max_iter = 3\n",
    "dg_se3_test = dg_se3.copy()\n",
    "step_length = 1e-3\n",
    "for n_iter in range(max_iter):\n",
    "    \n",
    "    error_data, cost_mean, weights, pixels, jacobian, hessian_blocks, gradient = \\\n",
    "    calcDataJacobian(verts, normals, dg_v, dg_w, dg_se3_test, vl_u, mask_sensor, verts_neighbor)\n",
    "    \n",
    "    dg_se3_test = updateAll(verts, normals, dg_se3_test, vl_u, mask_sensor, weights, verts_neighbor,\\\n",
    "              hessian_blocks, gradient, step_length)"
   ]
  },
  {
   "cell_type": "code",
   "execution_count": 67,
   "metadata": {},
   "outputs": [
    {
     "data": {
      "text/plain": [
       "0.051787355645098836"
      ]
     },
     "execution_count": 67,
     "metadata": {},
     "output_type": "execute_result"
    }
   ],
   "source": [
    "abs(error_data).mean()"
   ]
  },
  {
   "cell_type": "code",
   "execution_count": 55,
   "metadata": {},
   "outputs": [],
   "source": [
    "Hessian = jacobian.T @ jacobian"
   ]
  },
  {
   "cell_type": "code",
   "execution_count": 57,
   "metadata": {},
   "outputs": [],
   "source": [
    "H_inv = LA.pinv(Hessian)"
   ]
  },
  {
   "cell_type": "code",
   "execution_count": 70,
   "metadata": {},
   "outputs": [
    {
     "data": {
      "text/plain": [
       "array([[ 0.42720829,  0.41169812,  0.29212856,  0.48038815,  0.42351086,\n",
       "         0.41188737],\n",
       "       [ 0.40490741,  0.37631977,  0.41614225,  0.46972926,  0.37945732,\n",
       "         0.40293688],\n",
       "       [ 0.25443164,  0.39104534,  0.47143541,  0.38448854,  0.48462782,\n",
       "         0.26875555],\n",
       "       ..., \n",
       "       [ 0.41462559,  0.448503  ,  0.37620019,  0.36731686,  0.32951309,\n",
       "         0.31072031],\n",
       "       [ 0.48313216,  0.36269555,  0.47453485,  0.33066804,  0.27882317,\n",
       "         0.48054259],\n",
       "       [ 0.46753547,  0.42477799,  0.4134027 ,  0.47309227,  0.44838853,\n",
       "         0.40450909]])"
      ]
     },
     "execution_count": 70,
     "metadata": {},
     "output_type": "execute_result"
    }
   ],
   "source": [
    "dg_se3"
   ]
  },
  {
   "cell_type": "code",
   "execution_count": 63,
   "metadata": {},
   "outputs": [
    {
     "data": {
      "text/plain": [
       "array([-12.8835371 ,  29.67087995,  27.64720013, -32.61006233,\n",
       "       -22.34436024,  -3.07396184])"
      ]
     },
     "execution_count": 63,
     "metadata": {},
     "output_type": "execute_result"
    }
   ],
   "source": [
    "LA.pinv(hessian_blocks[0:6]) @ gradient[0:6]"
   ]
  },
  {
   "cell_type": "code",
   "execution_count": 72,
   "metadata": {},
   "outputs": [
    {
     "data": {
      "text/plain": [
       "14.207627244358601"
      ]
     },
     "execution_count": 72,
     "metadata": {},
     "output_type": "execute_result"
    }
   ],
   "source": []
  },
  {
   "cell_type": "code",
   "execution_count": 41,
   "metadata": {},
   "outputs": [
    {
     "ename": "NameError",
     "evalue": "name 'covis_mat' is not defined",
     "output_type": "error",
     "traceback": [
      "\u001b[0;31m---------------------------------------------------------------------------\u001b[0m",
      "\u001b[0;31mNameError\u001b[0m                                 Traceback (most recent call last)",
      "\u001b[0;32m<ipython-input-41-9a11c1ce1f04>\u001b[0m in \u001b[0;36m<module>\u001b[0;34m()\u001b[0m\n\u001b[0;32m----> 1\u001b[0;31m \u001b[0mcovis_mat\u001b[0m\u001b[0;34m[\u001b[0m\u001b[0mverts_neighbor\u001b[0m\u001b[0;34m[\u001b[0m\u001b[0mi\u001b[0m\u001b[0;34m]\u001b[0m\u001b[0;34m]\u001b[0m\u001b[0;34m[\u001b[0m\u001b[0;34m:\u001b[0m\u001b[0;34m,\u001b[0m\u001b[0mverts_neighbor\u001b[0m\u001b[0;34m[\u001b[0m\u001b[0mi\u001b[0m\u001b[0;34m]\u001b[0m\u001b[0;34m]\u001b[0m \u001b[0;34m+=\u001b[0m \u001b[0mnp\u001b[0m\u001b[0;34m.\u001b[0m\u001b[0mones\u001b[0m\u001b[0;34m(\u001b[0m\u001b[0;34m(\u001b[0m\u001b[0;36m10\u001b[0m\u001b[0;34m,\u001b[0m\u001b[0;36m10\u001b[0m\u001b[0;34m)\u001b[0m\u001b[0;34m)\u001b[0m\u001b[0;34m\u001b[0m\u001b[0m\n\u001b[0m",
      "\u001b[0;31mNameError\u001b[0m: name 'covis_mat' is not defined"
     ]
    }
   ],
   "source": [
    "covis_mat[verts_neighbor[i]][:,verts_neighbor[i]] += np.ones((10,10))"
   ]
  },
  {
   "cell_type": "markdown",
   "metadata": {},
   "source": [
    "# Necessary transformations and derivatives"
   ]
  },
  {
   "cell_type": "code",
   "execution_count": 42,
   "metadata": {
    "scrolled": false
   },
   "outputs": [],
   "source": [
    "def render(verts, K):\n",
    "    sensor_plane_pts = K@verts.T\n",
    "    sensor_plane_pts /= sensor_plane_pts[2,:]\n",
    "    sensor_plane_pts = sensor_plane_pts[:2,...]\n",
    "#     It = np.zeros_like(Dt, dtype=np.int)-1\n",
    "#     It_mask = np.zeros_like(Dt, dtype=np.bool)\n",
    "    sensor_plane_pts_int = np.round(sensor_plane_pts).astype(np.int)\n",
    "    mask = np.all([sensor_plane_pts_int[0,:]>=0, \n",
    "                   sensor_plane_pts_int[0,:]<It.shape[0], \n",
    "                   sensor_plane_pts_int[1,:]>=0, \n",
    "                   sensor_plane_pts_int[1,:]<It.shape[1]], axis=0)\n",
    "\n",
    "#     for i in np.arange(verts.shape[0])[mask]:\n",
    "#         pix_pos = (sensor_plane_pts_int[0, i], sensor_plane_pts_int[1, i])\n",
    "#         if It[pix_pos]==-1 or verts[It[pix_pos], 2]>verts[i,2]:\n",
    "#             It[pix_pos] = i\n",
    "#             It_mask[pix_pos] = 1\n",
    "    return sensor_plane_pts_int.T, mask"
   ]
  },
  {
   "cell_type": "code",
   "execution_count": 43,
   "metadata": {},
   "outputs": [],
   "source": [
    "def cross2mat(w):\n",
    "    \n",
    "    return np.array([[0, -w[2], w[1]],\n",
    "                     [w[2], 0, -w[0]],\n",
    "                     [-w[1], w[0], 0]])\n",
    "\n",
    "\n",
    "# Not used\n",
    "def quatCross(q, p):\n",
    "#     Quaternion multiply\n",
    "    return np.hstack([q[0]*p[0]-np.dot(q[1:], p[1:]), q[0]*p[1:] + \\\n",
    "                    p[0]*q[1:] + np.cross(q[1:], p[1:])])"
   ]
  },
  {
   "cell_type": "code",
   "execution_count": 44,
   "metadata": {},
   "outputs": [],
   "source": [
    "# Verified\n",
    "def se32dq(se3):\n",
    "#     Transform se3(nx6) elements to unit dual quaternions(nx8)\n",
    "    if se3.ndim == 1:\n",
    "        theta = norm(se3[:3])\n",
    "        dq = np.zeros(8)\n",
    "        dq[0] = np.cos(theta/2)\n",
    "        dq[1:4] = np.sinc(theta/(2*np.pi))*se3[:3]/2\n",
    "        a, b, c, d = dq[:4]\n",
    "        t1, t2, t3 = se3[3:]\n",
    "        dq[4:] = np.array([\n",
    "            - b*t1 - c*t2 - d*t3,\n",
    "              a*t1 + d*t2 - c*t3,\n",
    "            - d*t1 + a*t2 + b*t3,\n",
    "              c*t1 - b*t2 + a*t3\n",
    "        ]) / 2\n",
    "#         dq[4:] = quatCross(np.hstack((0, se3[3:])), dq[:4]) / 2\n",
    "        \n",
    "    else:\n",
    "        num = se3.shape[0]\n",
    "        dq = np.zeros((num, 8))\n",
    "        theta = norm(se3[:,:3], axis=1)\n",
    "        for i in range(num):\n",
    "            dq[i,:4] = np.hstack((np.cos(theta[i]/2), np.sinc(theta[i]/(2*np.pi))*se3[i,:3]/2))\n",
    "#             dq[i,4:] = quatCross(np.hstack((0, se3[i,3:])), dq[i,:4]) / 2\n",
    "            a, b, c, d = dq[i,:4]\n",
    "            t1, t2, t3 = se3[i,3:]\n",
    "            dq[i,4:] = np.array([\n",
    "                - b*t1 - c*t2 - d*t3,\n",
    "                  a*t1 + d*t2 - c*t3,\n",
    "                - d*t1 + a*t2 + b*t3,\n",
    "                  c*t1 - b*t2 + a*t3\n",
    "            ]) / 2\n",
    "    return dq\n",
    "\n",
    "\n",
    "def dq2SE3(dq):\n",
    "    \n",
    "#     Transform a unit dual quaternion to R and t\n",
    "#     dq = dq / norm(dq[:4])\n",
    "    w, x, y, z = dq[:4]\n",
    "    mat = np.identity(3)\n",
    "    #Extract rotational information into the new matrix\n",
    "    mat[0][0] = w*w + x*x - y*y - z*z\n",
    "    mat[0][1] = 2*x*y - 2*w*z\n",
    "    mat[0][2] = 2*x*z + 2*w*y\n",
    "    mat[1][0] = 2*x*y + 2*w*z\n",
    "    mat[1][1] = w*w + y*y - x*x - z*z\n",
    "    mat[1][2] = 2*y*z - 2*w*x\n",
    "    mat[2][0] = 2*x*z - 2*w*y\n",
    "    mat[2][1] = 2*y*z + 2*w*x\n",
    "    mat[2][2] = w*w + z*z - x*x - y*y\n",
    "    #Extract translation information into t\n",
    "#     t = 2*quatCross(dq[4:], dq[:4]*np.array([1.,-1.,-1.,-1.]))[1:]\n",
    "    t = 2*(dq[0]*dq[5:] - dq[4]*dq[1:4] + np.cross(dq[1:4], dq[5:]))\n",
    "\n",
    "    return mat, t\n",
    "\n",
    "\n",
    "# This better not be used, since it uses arccos\n",
    "def dq2se3(dq):\n",
    "    dq = dq / norm(dq[:4])\n",
    "    theta = 2 * np.arccos(dq[0])   \n",
    "    if norm(dq[1:4]) ==0:\n",
    "        w = np.zeros(3)\n",
    "        \n",
    "    else:\n",
    "        w = dq[1:4] / norm(dq[1:4]) * theta\n",
    "        \n",
    "    t = 2*(dq[0]*dq[5:] - dq[4]*dq[1:4] + np.cross(dq[1:4], dq[5:]))\n",
    "    \n",
    "    return np.hstack((w, t))"
   ]
  },
  {
   "cell_type": "code",
   "execution_count": 45,
   "metadata": {},
   "outputs": [],
   "source": [
    "def R2w(R):\n",
    "    # given a rotation matrix R return the angle-axis representation\n",
    "    u, s, v = np.linalg.svd(R - np.eye(3))\n",
    "    v = v[np.argmin(s)]\n",
    "    vh = np.array([[R[2,1]-R[1,2]], [R[0,2]-R[2,0]], [R[1,0]-R[0,1]]])\n",
    "    sin = 1/2 * v @ vh\n",
    "    cos = (np.trace(R) - 1) / 2\n",
    "    theta = np.arctan2(sin, cos)\n",
    "    return v * theta\n",
    "\n",
    "def cross2mat(w):\n",
    "    \n",
    "    return np.array([[0, -w[2], w[1]],\n",
    "                     [w[2], 0, -w[0]],\n",
    "                     [-w[1], w[0], 0]])\n",
    "\n",
    "\n",
    "def w2R(w):\n",
    "    # given the angle-axis representation w return the rotation matrix\n",
    "    theta = norm(w)\n",
    "    R = np.eye(3) * np.cos(theta) +\\\n",
    "    np.sinc(theta / np.pi) * np.array([[0, -w[2], w[1]],\n",
    "                                       [w[2], 0, -w[0]],\n",
    "                                       [-w[1], w[0], 0]]) +\\\n",
    "    (1 - np.cos(theta)) / theta**2 * w.reshape(-1,1) @ w.reshape(1,-1)\n",
    "    return R"
   ]
  },
  {
   "cell_type": "code",
   "execution_count": 46,
   "metadata": {},
   "outputs": [],
   "source": [
    "def dt_ddq(dq):\n",
    "#     dq = dq / norm(dq[:4])\n",
    "    q01, q02, q03, q04, qe1, qe2, qe3, qe4 = dq\n",
    "    \n",
    "    dt_dq0 = 2 * np.array([\n",
    "        [qe2, -qe1, qe4, -qe3],\n",
    "        [qe3, -qe4, -qe1, qe2],\n",
    "        [qe4, qe3, -qe2, -qe1]\n",
    "    ])\n",
    "    dt_dqe = 2 * np.array([\n",
    "        [-q02, q01, -q04, q03],\n",
    "        [-q03, q04, q01, -q02],\n",
    "        [-q04, -q03, q02, q01]\n",
    "    ])\n",
    "    return np.hstack((dt_dq0, dt_dqe))"
   ]
  },
  {
   "cell_type": "code",
   "execution_count": 47,
   "metadata": {},
   "outputs": [],
   "source": [
    "# def render(pts, K):\n",
    "# #     Pts should be nx3\n",
    "#     return fromHomo(K @ pts.T).T.astype(np.int)"
   ]
  },
  {
   "cell_type": "code",
   "execution_count": 48,
   "metadata": {},
   "outputs": [],
   "source": [
    "# Verified\n",
    "def drotated_dq0(v, q):\n",
    "#     v is the UNROTATED 3x1 vector, q is the quaternion(q0)\n",
    "    w, x, y, z = q\n",
    "    v1, v2, v3 = v\n",
    "    return 2*np.array([\n",
    "        [w*v1 - z*v2 + y*v3, x*v1 + y*v2 + z*v3,\n",
    "         -y*v1 + x*v2 + w*v3, -z*v1 - w*v2 + x*v3],\n",
    "        [z*v1 + w*v2 - x*v3, y*v1 - x*v2 - w*v3,\n",
    "         x*v1 + y*v2 + z*v3, w*v1 - z*v2 + y*v3],\n",
    "        [-y*v1 + x*v2 + w*v3, z*v1 + w*v2 - x*v3,\n",
    "         -w*v1 + z*v2 - y*v3, x*v1 + y*v2 + z*v3]\n",
    "    ])"
   ]
  },
  {
   "cell_type": "code",
   "execution_count": 49,
   "metadata": {},
   "outputs": [],
   "source": [
    "# Verified\n",
    "# d_q0 / d_t = 0\n",
    "def dqe_dt(w):\n",
    "#     Note that this is actually only a function of w\n",
    "    w1, w2, w3 = w\n",
    "#     Small angle approximation\n",
    "    if norm(w) <= 0.6:\n",
    "        return np.array([\n",
    "            [-w1/4, -w2/4, -w3/4],\n",
    "            [1/2, w3/4, -w2/4],\n",
    "            [-w3/4, 1/2, w1/4],\n",
    "            [w2/4, -w1/4, 1/2]\n",
    "        ])\n",
    "    \n",
    "    else:\n",
    "        theta_2 = 0.5 * norm(w)\n",
    "        sinc_theta_2 = np.sinc(theta_2/np.pi)\n",
    "        cos_theta_2 = np.cos(theta_2)\n",
    "\n",
    "        return np.array([\n",
    "            [-w1*sinc_theta_2/4, -w2*sinc_theta_2/4, -w3*sinc_theta_2/4],\n",
    "            [cos_theta_2/2, w3*sinc_theta_2/4, -w2*sinc_theta_2/4],\n",
    "            [-w3*sinc_theta_2/4, cos_theta_2/2, w1*sinc_theta_2/4],\n",
    "            [w2*sinc_theta_2/4, -w1*sinc_theta_2/4, cos_theta_2/2]\n",
    "        ])\n"
   ]
  },
  {
   "cell_type": "code",
   "execution_count": 50,
   "metadata": {},
   "outputs": [],
   "source": [
    "# Verified\n",
    "def ddq_dw(w, t):\n",
    "#     Derivative of dual quaternion WRT w\n",
    "    w1, w2, w3 = w\n",
    "    t1, t2, t3 = t\n",
    "    theta = norm(w)\n",
    "    dq0_dw = np.zeros((4, 3))\n",
    "    dqe_dw = np.zeros((4, 3))\n",
    "#     Small angle approximation\n",
    "    if theta <= 0.6:\n",
    "        \n",
    "        dq0_dw[0] = np.array([-w1/4, -w2/4, -w3/4])\n",
    "        dq0_dw[1:4] =  0.5 * np.eye(3) - w.reshape(-1,1) @ w.reshape(1,-1) / 24.\n",
    "        \n",
    "        dqe_dw[0,0] = 1/48 * (t1*(w1**2 - 12) + w1*(t2*w2 + t3*w3))\n",
    "        dqe_dw[0,1] = 1/48 * (t2*(w2**2 - 12) + w2*(t1*w1 + t3*w3))\n",
    "        dqe_dw[0,2] = 1/48 * (t3*(w3**2 - 12) + w3*(t2*w2 + t1*w1))\n",
    "        dqe_dw[1,0] = -1/48 * w1*(6*t1 - t3*w2 + t2*w3)\n",
    "        dqe_dw[2,1] = -1/48 * w2*(6*t2 + t3*w1 - t1*w3)\n",
    "        dqe_dw[3,2] = -1/48 * w3*(6*t3 - t2*w1 + t1*w2)\n",
    "        dqe_dw[1,1] = 1/48 * (t3*(w2**2 - 12) - w2*(6*t1 + t2*w3))\n",
    "        dqe_dw[1,2] = 1/48 * (-t2*(w3**2 - 12) - w3*(6*t1 - t3*w2))\n",
    "        dqe_dw[2,0] = 1/48 * (-t3*(w1**2 - 12) - w1*(6*t2 - t1*w3))\n",
    "        dqe_dw[2,2] = 1/48 * (t1*(w3**2 - 12) - w3*(6*t2 + t3*w1))\n",
    "        dqe_dw[3,0] = 1/48 * (t2*(w1**2 - 12) - w1*(6*t3 + t1*w2))\n",
    "        dqe_dw[3,1] = 1/48 * (-t1*(w2**2 - 12) - w2*(6*t3 - t2*w1))\n",
    "        \n",
    "    else:\n",
    "        \n",
    "        theta_2 = 0.5 * norm(w)\n",
    "        sinc_theta_2 = np.sinc(theta_2/np.pi)\n",
    "        cos_theta_2 = np.cos(theta_2)\n",
    "        sin_theta_2 = np.sin(theta_2)\n",
    "        d_sinc = (theta * cos_theta_2 - 2 * sin_theta_2) / theta**3\n",
    "\n",
    "        dq0_dw =  0.5 * np.array([\n",
    "            [-w1*sin_theta_2/theta, -w2*sin_theta_2/theta, -w3*sin_theta_2/theta],\n",
    "            [d_sinc * w1**2 + sinc_theta_2, w1 * w2 * d_sinc, w1 * w3 * d_sinc],\n",
    "            [w1 * w2 * d_sinc, d_sinc * w2**2 + sinc_theta_2, w2 * w3 * d_sinc],\n",
    "            [w1 * w3 * d_sinc, w2 * w3 * d_sinc, d_sinc * w3**2 + sinc_theta_2]\n",
    "        ])\n",
    "\n",
    "        dqe_dw[0] = - 0.25 * t@w * d_sinc * w - 0.25 *sinc_theta_2 * t\n",
    "        dqe_dw[1] = w * (t2*w3 - t3*w2) * d_sinc / 4\n",
    "        dqe_dw[2] = w * (t3*w1 - t1*w3) * d_sinc / 4\n",
    "        dqe_dw[3] = w * (t1*w2 - t2*w1) * d_sinc / 4\n",
    "\n",
    "        dqe_dw[1:] -= 0.25 * t.reshape(-1,1) @ w.reshape(1,-1) * sin_theta_2 / theta\n",
    "        dqe_dw[1:] += cross2mat(t) * sinc_theta_2 / 4\n",
    "\n",
    "    return np.vstack((dq0_dw, dqe_dw))"
   ]
  },
  {
   "cell_type": "code",
   "execution_count": null,
   "metadata": {},
   "outputs": [],
   "source": []
  },
  {
   "cell_type": "code",
   "execution_count": 79,
   "metadata": {},
   "outputs": [
    {
     "name": "stdout",
     "output_type": "stream",
     "text": [
      "Mean cost:  0.138414231487\n",
      "Points projected on image planes:  18695 / 19343\n",
      "--- 32.72302508354187 seconds ---\n"
     ]
    }
   ],
   "source": [
    "error_data = np.zeros(nVerts)\n",
    "jacobian = np.zeros((nVerts, 6*nNodes))\n",
    "gradient = np.zeros(6*nNodes)\n",
    "hessian_blocks = np.zeros((6*nNodes, 6))\n",
    "weights = np.zeros((nVerts, nNeighbors))\n",
    "start_time=time()\n",
    "proj_count = 0\n",
    "pixel = np.zeros((nVerts, 2), dtype=np.int)\n",
    "for i in range(nVerts):\n",
    "#     if mask[i] == False:\n",
    "#         continue\n",
    "        \n",
    "    neighbors = verts_neighbor[i]\n",
    "    weights[i] = np.exp(-np.sum((dg_v[neighbors] - verts[i])**2,\\\n",
    "                            axis=1) / (2*dg_w[neighbors]**2))\n",
    "#     Dual quaternion of each neighboring node\n",
    "    dq = se32dq(dg_se3[neighbors])\n",
    "#     Blending\n",
    "    DQB = weights[i] @ dq\n",
    "#     Normalizing DQB, norm will be used in calculating d_DQB / d_dq\n",
    "    norm_DQB = norm(DQB[:4])\n",
    "    DQB = DQB / norm_DQB\n",
    "#     Warping, note that normal does not depend on t\n",
    "    rMat, tvec = dq2SE3(DQB)\n",
    "    verts_warp[i] = rMat @ verts_new[i] + tvec\n",
    "    normals_warp[i] = rMat @ normals_new[i] # No translation\n",
    "#     Pixel data association\n",
    "    pixel[i] = np.round(fromHomo(K @ verts_warp[i])).astype(np.int)\n",
    "    if (pixel[i]<0).any() or pixel[i,0] >= 480 or pixel[i,1] >= 640:\n",
    "        continue\n",
    "    proj_count += 1\n",
    "#     Energy term\n",
    "    error_data[i] = np.dot(normals_warp[i], (verts_warp[i] - vl_u[pixel[i,0],pixel[i,1]]))\n",
    "#     As the names suggest\n",
    "    dv_ddq = np.hstack((drotated_dq0(verts_new[i], DQB[:4]), np.zeros((3,4)))) + dt_ddq(DQB)  \n",
    "    dn_ddq = np.hstack((drotated_dq0(normals_new[i], DQB[:4]), np.zeros((3,4)))) # No translation\n",
    "#     d_Energy / d_DQB\n",
    "    block1 = error_data[i] * ((verts_warp[i] - vl_u[pixel[i,0],pixel[i,1]]) @ dn_ddq + normals_warp[i] @ dv_ddq)\n",
    "#     Jacobian of DQB WRT each dual quaternion\n",
    "    for j in range(nNeighbors):\n",
    "#         d_DQB / d_dq\n",
    "        block2 = weights[i,j] * (np.identity(8) / norm_DQB - \\\n",
    "        DQB.reshape(-1,1) @ np.hstack([DQB[:4], [0.,0.,0.,0.]]).reshape(1,-1) / norm_DQB)\n",
    "#         Transform back to se3 to calculate d_dq / d_se3\n",
    "        se3 = dg_se3[neighbors[j]]\n",
    "#         Previously se3 = dq2se3(dq[j])\n",
    "#         d_dq / d_se3\n",
    "        block3 = np.hstack((ddq_dw(se3[:3], se3[3:]), np.vstack([np.zeros((4, 3)), dqe_dt(se3[:3])])))\n",
    "#         Final Jacobian\n",
    "        jacobian[i, 6*neighbors[j]:6*neighbors[j]+6] = block1 @ block2 @ block3\n",
    "#         Gradient\n",
    "        gradient[6*neighbors[j]:6*neighbors[j]+6] += \\\n",
    "        error_data[i] * jacobian[i, 6*neighbors[j]:6*neighbors[j]+6]\n",
    "#         Diagonal Hessian blocks\n",
    "        hessian_blocks[6*neighbors[j]:6*neighbors[j]+6] += \\\n",
    "        jacobian[i, 6*neighbors[j]:6*neighbors[j]+6].reshape(-1,1)\\\n",
    "        @ jacobian[i, 6*neighbors[j]:6*neighbors[j]+6].reshape(1,-1)\n",
    "        \n",
    "cost_mean = (error_data**2).sum() / (2*proj_count)\n",
    "print(\"Mean cost: \", cost_mean)\n",
    "print(\"Points projected on image planes: \", proj_count, '/', nVerts)\n",
    "print(\"--- %s seconds ---\" % (time() - start_time))\n",
    "\n",
    "\n",
    "verts_warp2 = verts_new.copy()\n",
    "normals_warp2 = normals_new.copy()\n",
    "start_time=time()\n",
    "Lambda = 1e-4\n",
    "proj_count = 0.\n",
    "for i in range(nNodes):\n",
    "#     dg_se3_new[i] = dg_se3[i] - LA.pinv(hessian_blocks[6*i:6*i+6]) @ gradient[6*i:6*i+6]\n",
    "    dg_se3_new[i] = dg_se3[i] + Lambda * gradient[6*i:6*i+6]\n",
    "    \n",
    "error_data_new = np.zeros(nVerts)\n",
    "for i in range(nVerts):\n",
    "#     if mask[i] == False:\n",
    "#         continue\n",
    "        \n",
    "    neighbors = verts_neighbor[i]\n",
    "#     Dual quaternion of each neighboring node\n",
    "    dq = se32dq(dg_se3_new[neighbors])\n",
    "#     Blending\n",
    "    DQB = weights[i] @ dq\n",
    "#     Normalizing DQB, norm will be used in calculating d_DQB / d_dq\n",
    "    norm_DQB = norm(DQB[:4])\n",
    "    DQB = DQB / norm_DQB\n",
    "#     Warping, note that normal does not depend on t\n",
    "    rMat, tvec = dq2SE3(DQB)\n",
    "    verts_warp2[i] = rMat @ verts_new[i] + tvec\n",
    "    normals_warp2[i] = rMat @ normals_new[i] # No translation\n",
    "#     Pixel data association\n",
    "    pixel = fromHomo(K @ verts_warp2[i]).astype(np.int)\n",
    "    if (pixel<0).any() or pixel[0] >= 480 or pixel[1] >= 640:\n",
    "        continue\n",
    "    proj_count += 1  \n",
    "#     Energy term\n",
    "    error_data_new[i] = np.dot(normals_warp2[i], (verts_warp2[i] - vl_u[pixel[0],pixel[1]]))\n",
    "    \n",
    "    \n",
    "cost_data_new = (error_data_new**2).sum() / (2*proj_count)\n",
    "print(\"Updated mean cost: \", cost_data_new) \n",
    "print(\"Points projected on image planes: \", proj_count)\n",
    "print(\"--- %s seconds ---\" % (time() - start_time))"
   ]
  }
 ],
 "metadata": {
  "kernelspec": {
   "display_name": "Python 3",
   "language": "python",
   "name": "python3"
  },
  "language_info": {
   "codemirror_mode": {
    "name": "ipython",
    "version": 3
   },
   "file_extension": ".py",
   "mimetype": "text/x-python",
   "name": "python",
   "nbconvert_exporter": "python",
   "pygments_lexer": "ipython3",
   "version": "3.6.2"
  },
  "latex_envs": {
   "LaTeX_envs_menu_present": true,
   "autoclose": false,
   "autocomplete": true,
   "bibliofile": "biblio.bib",
   "cite_by": "apalike",
   "current_citInitial": 1,
   "eqLabelWithNumbers": true,
   "eqNumInitial": 1,
   "hotkeys": {
    "equation": "Ctrl-E",
    "itemize": "Ctrl-I"
   },
   "labels_anchors": false,
   "latex_user_defs": false,
   "report_style_numbering": false,
   "user_envs_cfg": false
  }
 },
 "nbformat": 4,
 "nbformat_minor": 2
}
